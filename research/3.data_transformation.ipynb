{
 "cells": [
  {
   "cell_type": "code",
   "execution_count": 1,
   "id": "9b963815",
   "metadata": {},
   "outputs": [],
   "source": [
    "import os"
   ]
  },
  {
   "cell_type": "code",
   "execution_count": 2,
   "id": "a4911635",
   "metadata": {},
   "outputs": [
    {
     "data": {
      "text/plain": [
       "'c:\\\\Users\\\\akato\\\\Desktop\\\\MLOps\\\\datascienceproject_fullflow\\\\research'"
      ]
     },
     "execution_count": 2,
     "metadata": {},
     "output_type": "execute_result"
    }
   ],
   "source": [
    "%pwd"
   ]
  },
  {
   "cell_type": "code",
   "execution_count": 3,
   "id": "04503b31",
   "metadata": {},
   "outputs": [],
   "source": [
    "os.chdir(\"../\")"
   ]
  },
  {
   "cell_type": "code",
   "execution_count": 4,
   "id": "6c2c1499",
   "metadata": {},
   "outputs": [
    {
     "data": {
      "text/plain": [
       "'c:\\\\Users\\\\akato\\\\Desktop\\\\MLOps\\\\datascienceproject_fullflow'"
      ]
     },
     "execution_count": 4,
     "metadata": {},
     "output_type": "execute_result"
    }
   ],
   "source": [
    "%pwd"
   ]
  },
  {
   "cell_type": "code",
   "execution_count": 5,
   "id": "bdef8773",
   "metadata": {},
   "outputs": [],
   "source": [
    "from dataclasses import dataclass\n",
    "from pathlib import Path\n",
    "\n",
    "@dataclass\n",
    "class DataTransformationConfig:\n",
    "    root_dir: Path\n",
    "    data_path: Path"
   ]
  },
  {
   "cell_type": "code",
   "execution_count": 6,
   "id": "0f6e83c5",
   "metadata": {},
   "outputs": [],
   "source": [
    "# Import constants and utility functions from the project\n",
    "# Code transfered to src.datascienceproject.config.configuration.py\n",
    "from src.datascienceproject.constant import *  # Import all constants\n",
    "from src.datascienceproject.utils.common import read_yaml, create_directories  # Import specific utility functions"
   ]
  },
  {
   "cell_type": "code",
   "execution_count": 7,
   "id": "1a8033ed",
   "metadata": {},
   "outputs": [],
   "source": [
    "class ConfigurationManager:\n",
    "    def __init__(self,\n",
    "                 config_filepath=CONFIG_FILE_PATH,\n",
    "                 params_filepath=PARAMS_FILE_PATH,\n",
    "                 schema_filepath=SCHEMA_FILE_PATH):\n",
    "        # Convert paths to strings for read_yaml\n",
    "        self.config = read_yaml(str(config_filepath))\n",
    "        self.params = read_yaml(str(params_filepath))\n",
    "        self.schema = read_yaml(str(schema_filepath))\n",
    "\n",
    "        create_directories([self.config.artifacts_root])\n",
    "\n",
    "    def get_data_transformation_config(self) -> DataTransformationConfig:\n",
    "        config = self.config.data_transformation\n",
    "        create_directories([config.root_dir])\n",
    "\n",
    "        data_transformation_config = DataTransformationConfig(\n",
    "            root_dir=config.root_dir,\n",
    "            data_path=config.data_path\n",
    "        )\n",
    "        return data_transformation_config"
   ]
  },
  {
   "cell_type": "code",
   "execution_count": 8,
   "id": "89892fb4",
   "metadata": {},
   "outputs": [],
   "source": [
    "import os\n",
    "from pathlib import Path\n",
    "from src.datascienceproject import logger\n",
    "from sklearn.model_selection import train_test_split\n",
    "import pandas as pd"
   ]
  },
  {
   "cell_type": "code",
   "execution_count": null,
   "id": "6caa7ecc",
   "metadata": {},
   "outputs": [],
   "source": [
    "class DataTransformation:\n",
    "    def __init__(self, config: DataTransformationConfig):\n",
    "        self.config = config\n",
    "    ## Note: You can add different data transformation techniques such as Scaler, PCA and all\n",
    "    #You can perform all kinds of EDA in ML cycle here before passing this data to the model\n",
    "\n",
    "    # I am only adding train_test_spliting cz this data is already cleaned up\n",
    "    def split_data(self):\n",
    "        # Read data with semicolon separator\n",
    "        data = pd.read_csv(self.config.data_path, sep=';')\n",
    "\n",
    "        # Split the data\n",
    "        train, test = train_test_split(data, test_size=0.2, random_state=42)\n",
    "        \n",
    "        # Save with semicolon separator to maintain consistency\n",
    "        train.to_csv(os.path.join(self.config.root_dir, \"train.csv\"), sep=';', index=False)\n",
    "        test.to_csv(os.path.join(self.config.root_dir, \"test.csv\"), sep=';', index=False)\n",
    "\n",
    "        logger.info(\"Columns in training data: %s\", train.columns.tolist())\n",
    "\n",
    "        logger.info(\"Split data into training and test sets\")\n",
    "        logger.info(train.shape)\n",
    "        logger.info(test.shape)\n",
    "\n",
    "        print(train.shape)\n",
    "        print(test.shape)\n"
   ]
  },
  {
   "cell_type": "code",
   "execution_count": 15,
   "id": "02e87c98",
   "metadata": {},
   "outputs": [
    {
     "name": "stdout",
     "output_type": "stream",
     "text": [
      "[2025-08-27 08:48:42,969] INFO in common: YAML file c:\\Users\\akato\\Desktop\\MLOps\\datascienceproject_fullflow\\configs\\config.yaml loaded successfully.\n",
      "[2025-08-27 08:48:42,975] INFO in common: YAML file c:\\Users\\akato\\Desktop\\MLOps\\datascienceproject_fullflow\\params.yaml loaded successfully.\n",
      "[2025-08-27 08:48:42,981] INFO in common: YAML file c:\\Users\\akato\\Desktop\\MLOps\\datascienceproject_fullflow\\schema.yaml loaded successfully.\n",
      "[2025-08-27 08:48:42,985] INFO in common: created directory at: artifacts\n",
      "[2025-08-27 08:48:42,988] INFO in common: created directory at: artifacts/data_transformation\n",
      "[2025-08-27 08:48:43,028] INFO in 3680432671: Split data into training and test sets\n",
      "[2025-08-27 08:48:43,032] INFO in 3680432671: (3918, 1)\n",
      "[2025-08-27 08:48:43,035] INFO in 3680432671: (980, 1)\n",
      "(3918, 1)\n",
      "(980, 1)\n"
     ]
    },
    {
     "name": "stderr",
     "output_type": "stream",
     "text": [
      "C:\\Users\\akato\\AppData\\Local\\Temp\\ipykernel_21416\\3680432671.py:9: FutureWarning: DataFrame.applymap has been deprecated. Use DataFrame.map instead.\n",
      "  data = data.applymap(lambda x: x.strip().replace(\";\", \"\") #.replace('\"', \"\").replace(\"'\", \"\")\n"
     ]
    }
   ],
   "source": [
    "try:\n",
    "    config = ConfigurationManager()\n",
    "    data_transformation_config = config.get_data_transformation_config()\n",
    "    data_transformation = DataTransformation(config=data_transformation_config)\n",
    "    data_transformation.split_data()\n",
    "except Exception as e:\n",
    "    raise e"
   ]
  },
  {
   "cell_type": "code",
   "execution_count": 11,
   "id": "408d61c1",
   "metadata": {},
   "outputs": [
    {
     "name": "stdout",
     "output_type": "stream",
     "text": [
      "True\n",
      "\n"
     ]
    }
   ],
   "source": [
    "with open(Path(\"artifacts/data_validation/status.txt\"),'r') as f:\n",
    "                status=f.read().split(\" \")[-1]\n",
    "                print(status)"
   ]
  },
  {
   "cell_type": "code",
   "execution_count": 12,
   "id": "fc09dc85",
   "metadata": {},
   "outputs": [
    {
     "name": "stdout",
     "output_type": "stream",
     "text": [
      "True\n"
     ]
    }
   ],
   "source": [
    "with open(Path(\"artifacts/data_validation/status.txt\"), 'r') as file:\n",
    "            status = file.read().split(\" \")[-1].strip()\n",
    "            print(status)"
   ]
  },
  {
   "cell_type": "code",
   "execution_count": null,
   "id": "1bdbd9bc",
   "metadata": {},
   "outputs": [],
   "source": []
  }
 ],
 "metadata": {
  "kernelspec": {
   "display_name": "venv",
   "language": "python",
   "name": "python3"
  },
  "language_info": {
   "codemirror_mode": {
    "name": "ipython",
    "version": 3
   },
   "file_extension": ".py",
   "mimetype": "text/x-python",
   "name": "python",
   "nbconvert_exporter": "python",
   "pygments_lexer": "ipython3",
   "version": "3.10.0"
  }
 },
 "nbformat": 4,
 "nbformat_minor": 5
}
