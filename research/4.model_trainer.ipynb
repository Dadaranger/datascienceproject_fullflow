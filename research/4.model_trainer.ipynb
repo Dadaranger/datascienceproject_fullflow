{
 "cells": [
  {
   "cell_type": "code",
   "execution_count": 1,
   "id": "160b6e08",
   "metadata": {},
   "outputs": [
    {
     "data": {
      "text/plain": [
       "'c:\\\\Users\\\\akato\\\\Desktop\\\\MLOps\\\\datascienceproject_fullflow\\\\research'"
      ]
     },
     "execution_count": 1,
     "metadata": {},
     "output_type": "execute_result"
    }
   ],
   "source": [
    "import os\n",
    "%pwd"
   ]
  },
  {
   "cell_type": "code",
   "execution_count": 2,
   "id": "c2c4ab01",
   "metadata": {},
   "outputs": [
    {
     "data": {
      "text/plain": [
       "'c:\\\\Users\\\\akato\\\\Desktop\\\\MLOps\\\\datascienceproject_fullflow'"
      ]
     },
     "execution_count": 2,
     "metadata": {},
     "output_type": "execute_result"
    }
   ],
   "source": [
    "os.chdir(\"../\")\n",
    "%pwd"
   ]
  },
  {
   "cell_type": "code",
   "execution_count": 22,
   "id": "2fc4b4cf",
   "metadata": {},
   "outputs": [],
   "source": [
    "from dataclasses import dataclass\n",
    "from pathlib import Path\n",
    "\n",
    "@dataclass\n",
    "class ModelTrainerConfig:\n",
    "    root_dir: Path\n",
    "    train_data_path: Path\n",
    "    test_data_path: Path\n",
    "    model_name: str\n",
    "    alpha: float\n",
    "    l1_ratio: float\n",
    "    target_column: str"
   ]
  },
  {
   "cell_type": "code",
   "execution_count": 4,
   "id": "16a4627d",
   "metadata": {},
   "outputs": [],
   "source": [
    "# Import constants and utility functions from the project\n",
    "# Code transfered to src.datascienceproject.config.configuration.py\n",
    "from src.datascienceproject.constant import *  # Import all constants\n",
    "from src.datascienceproject.utils.common import read_yaml, create_directories  # Import specific utility functions"
   ]
  },
  {
   "cell_type": "code",
   "execution_count": 23,
   "id": "5e3caae8",
   "metadata": {},
   "outputs": [],
   "source": [
    "class ConfigurationManager:\n",
    "    def __init__(self,\n",
    "                 config_filepath=CONFIG_FILE_PATH,\n",
    "                 params_filepath=PARAMS_FILE_PATH,\n",
    "                 schema_filepath=SCHEMA_FILE_PATH):\n",
    "        # Convert paths to strings for read_yaml\n",
    "        self.config = read_yaml(str(config_filepath))\n",
    "        self.params = read_yaml(str(params_filepath))\n",
    "        self.schema = read_yaml(str(schema_filepath))\n",
    "\n",
    "        create_directories([self.config.artifacts_root])\n",
    "\n",
    "    def get_model_trainer_config(self) -> ModelTrainerConfig:\n",
    "        config = self.config.model_training\n",
    "        params = self.params.ElasticNet\n",
    "        schema = self.schema.TARGET_COLUMN\n",
    "\n",
    "        create_directories([config.root_dir])\n",
    "\n",
    "        model_trainer_config = ModelTrainerConfig(\n",
    "            root_dir=Path(config.root_dir),\n",
    "            train_data_path=Path(config.train_data_path),\n",
    "            test_data_path=Path(config.test_data_path),\n",
    "            model_name=config.model_name,\n",
    "            alpha=params.alpha,\n",
    "            l1_ratio=params.l1_ratio,\n",
    "            target_column=schema.name\n",
    "        )\n",
    "\n",
    "        return model_trainer_config"
   ]
  },
  {
   "cell_type": "code",
   "execution_count": 24,
   "id": "420bd077",
   "metadata": {},
   "outputs": [],
   "source": [
    "import pandas as pd\n",
    "import os\n",
    "from src.datascienceproject import logger\n",
    "from sklearn.linear_model import ElasticNet\n",
    "import joblib"
   ]
  },
  {
   "cell_type": "code",
   "execution_count": 30,
   "id": "966978f2",
   "metadata": {},
   "outputs": [
    {
     "name": "stdout",
     "output_type": "stream",
     "text": [
      "Training data columns:\n",
      "['fixed acidity;\"volatile acidity\";\"citric acid\";\"residual sugar\";\"chlorides\";\"free sulfur dioxide\";\"total sulfur dioxide\";\"density\";\"pH\";\"sulphates\";\"alcohol\";\"quality\"']\n"
     ]
    }
   ],
   "source": [
    "# Check the training data columns\n",
    "train_data = pd.read_csv(Path(\"artifacts/data_transformation/train.csv\"), sep=\";\")\n",
    "print(\"Training data columns:\")\n",
    "print(train_data.columns.tolist())\n",
    "\n",
    "# Verify that the quality column exists and its data type\n",
    "if 'quality' in train_data.columns:\n",
    "    print(\"\\nQuality column data type:\", train_data['quality'].dtype)\n",
    "    print(\"First few values of quality column:\")\n",
    "    print(train_data['quality'].head())"
   ]
  },
  {
   "cell_type": "code",
   "execution_count": 33,
   "id": "420b51be",
   "metadata": {},
   "outputs": [
    {
     "name": "stdout",
     "output_type": "stream",
     "text": [
      "First few lines of raw data:\n",
      "Line 1: \"fixed acidity;\"\"volatile acidity\"\";\"\"citric acid\"\";\"\"residual sugar\"\";\"\"chlorides\"\";\"\"free sulfur dioxide\"\";\"\"total sulfur dioxide\"\";\"\"density\"\";\"\"pH\"\";\"\"sulphates\"\";\"\"alcohol\"\";\"\"quality\"\"\"\n",
      "Line 2: 7.3;0.17;0.36;8.2;0.028;44;111;0.99272;3.14;0.41;12.4;6\n",
      "Line 3: 6.3;0.25;0.44;11.6;0.041;48;195;0.9968;3.18;0.52;9.5;5\n",
      "Line 4: 5.6;0.32;0.33;7.4;0.037;25;95;0.99268;3.25;0.49;11.1;6\n",
      "Line 5: 6.9;0.19;0.35;1.7;0.036;33;101;0.99315;3.21;0.54;10.8;7\n",
      "\n",
      "Trying to read with different separators:\n",
      "\n",
      "Columns with comma separator: ['fixed acidity;\"volatile acidity\";\"citric acid\";\"residual sugar\";\"chlorides\";\"free sulfur dioxide\";\"total sulfur dioxide\";\"density\";\"pH\";\"sulphates\";\"alcohol\";\"quality\"']\n",
      "\n",
      "Shape of data: (3918, 1)\n",
      "\n",
      "First row of data:\n",
      "fixed acidity;\"volatile acidity\";\"citric acid\";\"residual sugar\";\"chlorides\";\"free sulfur dioxide\";\"total sulfur dioxide\";\"density\";\"pH\";\"sulphates\";\"alcohol\";\"quality\"    7.3;0.17;0.36;8.2;0.028;44;111;0.99272;3.14;0....\n",
      "Name: 0, dtype: object\n"
     ]
    }
   ],
   "source": [
    "# Debug: Read and inspect the raw data\n",
    "with open(Path(\"artifacts/data_transformation/train.csv\"), 'r') as f:\n",
    "    print(\"First few lines of raw data:\")\n",
    "    for i, line in enumerate(f):\n",
    "        if i < 5:  # Print first 5 lines\n",
    "            print(f\"Line {i+1}: {line.strip()}\")\n",
    "            \n",
    "print(\"\\nTrying to read with different separators:\")\n",
    "# Try reading with comma\n",
    "df_comma = pd.read_csv(Path(\"artifacts/data_transformation/train.csv\"))\n",
    "print(\"\\nColumns with comma separator:\", df_comma.columns.tolist())\n",
    "\n",
    "# Try reading the first few rows as plain text\n",
    "print(\"\\nShape of data:\", df_comma.shape)\n",
    "print(\"\\nFirst row of data:\")\n",
    "print(df_comma.iloc[0])"
   ]
  },
  {
   "cell_type": "code",
   "execution_count": 34,
   "id": "a9358cac",
   "metadata": {},
   "outputs": [],
   "source": [
    "class ModelTrainer:\n",
    "    def __init__(self, config: ModelTrainerConfig):\n",
    "        self.config = config\n",
    "\n",
    "    def _preprocess_data(self, file_path):\n",
    "        # Read the raw data\n",
    "        with open(file_path, 'r') as f:\n",
    "            lines = f.readlines()\n",
    "        \n",
    "        # Get column names from first line, removing extra quotes\n",
    "        headers = lines[0].strip().strip('\"').split(';')\n",
    "        headers = [h.strip('\"') for h in headers]\n",
    "        \n",
    "        # Process data rows\n",
    "        data_rows = []\n",
    "        for line in lines[1:]:\n",
    "            values = line.strip().split(';')\n",
    "            data_rows.append(values)\n",
    "            \n",
    "        # Create DataFrame\n",
    "        df = pd.DataFrame(data_rows, columns=headers)\n",
    "        \n",
    "        # Convert numeric columns to appropriate types\n",
    "        for col in df.columns:\n",
    "            if col != 'quality':  # All columns except quality should be float\n",
    "                df[col] = pd.to_numeric(df[col], errors='coerce')\n",
    "            else:\n",
    "                df[col] = pd.to_numeric(df[col], errors='coerce', downcast='integer')\n",
    "                \n",
    "        return df\n",
    "\n",
    "    def train(self):\n",
    "        # Load and preprocess data\n",
    "        train_data = self._preprocess_data(self.config.train_data_path)\n",
    "        test_data = self._preprocess_data(self.config.test_data_path)\n",
    "        \n",
    "        print(\"Available columns in training data:\")\n",
    "        print(train_data.columns.tolist())\n",
    "        print(\"\\nTarget column we're looking for:\", self.config.target_column)\n",
    "        \n",
    "        # Add separator for readability\n",
    "        print(\"\\nFirst few rows of training data:\")\n",
    "        print(train_data.head())\n",
    "        \n",
    "        train_X = train_data.drop(columns=[self.config.target_column], axis=1)\n",
    "        test_X = test_data.drop(columns=[self.config.target_column], axis=1)\n",
    "        train_y = train_data[self.config.target_column]\n",
    "        test_y = test_data[self.config.target_column]\n",
    "\n",
    "        lr = ElasticNet(alpha=self.config.alpha, l1_ratio=self.config.l1_ratio, random_state=42)\n",
    "        lr.fit(train_X, train_y)\n",
    "\n",
    "        joblib.dump(lr, os.path.join(self.config.root_dir, self.config.model_name))\n",
    "        \n",
    "        logger.info(\"Model training completed.\")"
   ]
  },
  {
   "cell_type": "code",
   "execution_count": 35,
   "id": "a9485cbd",
   "metadata": {},
   "outputs": [
    {
     "name": "stdout",
     "output_type": "stream",
     "text": [
      "[2025-08-27 01:17:59,815] INFO in common: YAML file c:\\Users\\akato\\Desktop\\MLOps\\datascienceproject_fullflow\\configs\\config.yaml loaded successfully.\n",
      "[2025-08-27 01:17:59,824] INFO in common: YAML file c:\\Users\\akato\\Desktop\\MLOps\\datascienceproject_fullflow\\params.yaml loaded successfully.\n",
      "[2025-08-27 01:17:59,824] INFO in common: YAML file c:\\Users\\akato\\Desktop\\MLOps\\datascienceproject_fullflow\\params.yaml loaded successfully.\n",
      "[2025-08-27 01:17:59,835] INFO in common: YAML file c:\\Users\\akato\\Desktop\\MLOps\\datascienceproject_fullflow\\schema.yaml loaded successfully.\n",
      "[2025-08-27 01:17:59,835] INFO in common: YAML file c:\\Users\\akato\\Desktop\\MLOps\\datascienceproject_fullflow\\schema.yaml loaded successfully.\n"
     ]
    },
    {
     "name": "stdout",
     "output_type": "stream",
     "text": [
      "[2025-08-27 01:17:59,838] INFO in common: created directory at: artifacts\n",
      "[2025-08-27 01:17:59,842] INFO in common: created directory at: artifacts/model_training\n",
      "[2025-08-27 01:17:59,842] INFO in common: created directory at: artifacts/model_training\n",
      "Available columns in training data:\n",
      "['fixed acidity', 'volatile acidity', 'citric acid', 'residual sugar', 'chlorides', 'free sulfur dioxide', 'total sulfur dioxide', 'density', 'pH', 'sulphates', 'alcohol', 'quality']\n",
      "\n",
      "Target column we're looking for: quality\n",
      "\n",
      "First few rows of training data:\n",
      "   fixed acidity  volatile acidity  citric acid  ...  sulphates  alcohol  quality\n",
      "0            7.3              0.17         0.36  ...       0.41     12.4        6\n",
      "1            6.3              0.25         0.44  ...       0.52      9.5        5\n",
      "2            5.6              0.32         0.33  ...       0.49     11.1        6\n",
      "3            6.9              0.19         0.35  ...       0.54     10.8        7\n",
      "4            7.7              0.30         0.26  ...       0.50     10.4        5\n",
      "\n",
      "[5 rows x 12 columns]\n",
      "Available columns in training data:\n",
      "['fixed acidity', 'volatile acidity', 'citric acid', 'residual sugar', 'chlorides', 'free sulfur dioxide', 'total sulfur dioxide', 'density', 'pH', 'sulphates', 'alcohol', 'quality']\n",
      "\n",
      "Target column we're looking for: quality\n",
      "\n",
      "First few rows of training data:\n",
      "   fixed acidity  volatile acidity  citric acid  ...  sulphates  alcohol  quality\n",
      "0            7.3              0.17         0.36  ...       0.41     12.4        6\n",
      "1            6.3              0.25         0.44  ...       0.52      9.5        5\n",
      "2            5.6              0.32         0.33  ...       0.49     11.1        6\n",
      "3            6.9              0.19         0.35  ...       0.54     10.8        7\n",
      "4            7.7              0.30         0.26  ...       0.50     10.4        5\n",
      "\n",
      "[5 rows x 12 columns]\n",
      "[2025-08-27 01:18:00,353] INFO in 1251691156: Model training completed.\n",
      "[2025-08-27 01:18:00,353] INFO in 1251691156: Model training completed.\n"
     ]
    }
   ],
   "source": [
    "try:\n",
    "    config = ConfigurationManager()\n",
    "    model_trainer_config = config.get_model_trainer_config()\n",
    "    model_trainer = ModelTrainer(config=model_trainer_config)\n",
    "    model_trainer.train()\n",
    "except Exception as e:\n",
    "    raise e"
   ]
  },
  {
   "cell_type": "code",
   "execution_count": null,
   "id": "e1cc4492",
   "metadata": {},
   "outputs": [],
   "source": []
  }
 ],
 "metadata": {
  "kernelspec": {
   "display_name": "venv",
   "language": "python",
   "name": "python3"
  },
  "language_info": {
   "codemirror_mode": {
    "name": "ipython",
    "version": 3
   },
   "file_extension": ".py",
   "mimetype": "text/x-python",
   "name": "python",
   "nbconvert_exporter": "python",
   "pygments_lexer": "ipython3",
   "version": "3.10.0"
  }
 },
 "nbformat": 4,
 "nbformat_minor": 5
}
