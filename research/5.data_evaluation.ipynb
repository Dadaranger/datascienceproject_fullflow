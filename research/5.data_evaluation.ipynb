{
 "cells": [
  {
   "cell_type": "code",
   "execution_count": 42,
   "id": "8ce60e49",
   "metadata": {},
   "outputs": [],
   "source": [
    "import os\n",
    "os.environ[\"MLFLOW_TRACKING_URI\"] = \"https://dagshub.com/akatoshleiwu/datascienceproject_fullflow.mlflow\"\n",
    "os.environ[\"MLFLOW_TRACKING_USERNAME\"] = \"akatoshleiwu\"\n",
    "os.environ[\"MLFLOW_TRACKING_PASSWORD\"] = \"828c62a7c6fa418a0cc0a545305fd26075c66053\""
   ]
  },
  {
   "cell_type": "code",
   "execution_count": 43,
   "id": "3dff4122",
   "metadata": {},
   "outputs": [
    {
     "data": {
      "text/plain": [
       "'c:\\\\Users\\\\akato\\\\Desktop\\\\MLOps\\\\datascienceproject_fullflow'"
      ]
     },
     "execution_count": 43,
     "metadata": {},
     "output_type": "execute_result"
    }
   ],
   "source": [
    "import os\n",
    "%pwd"
   ]
  },
  {
   "cell_type": "code",
   "execution_count": 5,
   "id": "058f2d48",
   "metadata": {},
   "outputs": [
    {
     "data": {
      "text/plain": [
       "'c:\\\\Users\\\\akato\\\\Desktop\\\\MLOps\\\\datascienceproject_fullflow'"
      ]
     },
     "execution_count": 5,
     "metadata": {},
     "output_type": "execute_result"
    }
   ],
   "source": [
    "os.chdir(\"../\")\n",
    "%pwd"
   ]
  },
  {
   "cell_type": "code",
   "execution_count": 44,
   "id": "35d0c555",
   "metadata": {},
   "outputs": [],
   "source": [
    "# set up entity\n",
    "\n",
    "from dataclasses import dataclass\n",
    "from pathlib import Path\n",
    "\n",
    "@dataclass\n",
    "class ModelEvaluationConfig:\n",
    "    root_dir: Path\n",
    "    test_data_path: Path\n",
    "    model_path: Path\n",
    "    all_params: dict\n",
    "    metrics_file_name: Path\n",
    "    TARGET_COLUMN: str\n",
    "    mlflow_uri: str"
   ]
  },
  {
   "cell_type": "code",
   "execution_count": 45,
   "id": "6dc94c47",
   "metadata": {},
   "outputs": [],
   "source": [
    "# set up configuration manager\n",
    "from src.datascienceproject.constant import *  # Import all constants\n",
    "from src.datascienceproject.utils.common import read_yaml, create_directories,save_json  # Import specific utility functions"
   ]
  },
  {
   "cell_type": "code",
   "execution_count": 46,
   "id": "3e0fccba",
   "metadata": {},
   "outputs": [],
   "source": [
    "class ConfigurationManager:\n",
    "    def __init__(self,\n",
    "                 config_filepath=CONFIG_FILE_PATH,\n",
    "                 params_filepath=PARAMS_FILE_PATH,\n",
    "                 schema_filepath=SCHEMA_FILE_PATH):\n",
    "        # Convert paths to strings for read_yaml\n",
    "        self.config = read_yaml(str(config_filepath))\n",
    "        self.params = read_yaml(str(params_filepath))\n",
    "        self.schema = read_yaml(str(schema_filepath))\n",
    "\n",
    "        create_directories([self.config.artifacts_root])\n",
    "\n",
    "    def get_model_evaluation_config(self) -> ModelEvaluationConfig:\n",
    "        config=self.config.model_evaluation\n",
    "        params=self.params.ElasticNet\n",
    "        schema=self.schema.TARGET_COLUMN\n",
    "\n",
    "        create_directories([config.root_dir])\n",
    "        \n",
    "        model_evaluation_config = ModelEvaluationConfig(\n",
    "            root_dir=config.root_dir,\n",
    "            test_data_path=config.test_data_path,\n",
    "            model_path=config.model_path,\n",
    "            all_params=params,\n",
    "            metrics_file_name=config.metrics_file_name,\n",
    "            TARGET_COLUMN=schema.name,\n",
    "            mlflow_uri=\"https://dagshub.com/akatoshleiwu/datascienceproject_fullflow.mlflow\"\n",
    "        )\n",
    "        return model_evaluation_config"
   ]
  },
  {
   "cell_type": "code",
   "execution_count": 47,
   "id": "730032fa",
   "metadata": {},
   "outputs": [],
   "source": [
    "# set up evaluation matrics\n",
    "import os\n",
    "import pandas as pd\n",
    "from sklearn.metrics import mean_squared_error, mean_absolute_error, r2_score\n",
    "from urllib.parse import urlparse\n",
    "import mlflow\n",
    "import mlflow.sklearn\n",
    "import numpy as np\n",
    "import joblib"
   ]
  },
  {
   "cell_type": "code",
   "execution_count": 48,
   "id": "dab450e5",
   "metadata": {},
   "outputs": [
    {
     "name": "stdout",
     "output_type": "stream",
     "text": [
      "Columns in test data:\n",
      "['fixed acidity;\"volatile acidity\";\"citric acid\";\"residual sugar\";\"chlorides\";\"free sulfur dioxide\";\"total sulfur dioxide\";\"density\";\"pH\";\"sulphates\";\"alcohol\";\"quality\"']\n",
      "\n",
      "First few rows:\n",
      "  fixed acidity;\"volatile acidity\";\"citric acid\";\"residual sugar\";\"chlorides\";\"free sulfur dioxide\";\"total sulfur dioxide\";\"density\";\"pH\";\"sulphates\";\"alcohol\";\"quality\"\n",
      "0  60.290.4110.80.048551490.99373.090.5910.966666...                                                                                                                     \n",
      "1        5.40.530.162.70.036341280.988563.20.5313.28                                                                                                                     \n",
      "2        7.10.250.392.10.036301240.99083.280.4312.28                                                                                                                     \n",
      "3       7.30.280.351.60.054311480.991783.180.4710.75                                                                                                                     \n",
      "4           6.50.320.345.70.04427910.991843.280.6127                                                                                                                     \n",
      "  fixed acidity;\"volatile acidity\";\"citric acid\";\"residual sugar\";\"chlorides\";\"free sulfur dioxide\";\"total sulfur dioxide\";\"density\";\"pH\";\"sulphates\";\"alcohol\";\"quality\"\n",
      "0  60.290.4110.80.048551490.99373.090.5910.966666...                                                                                                                     \n",
      "1        5.40.530.162.70.036341280.988563.20.5313.28                                                                                                                     \n",
      "2        7.10.250.392.10.036301240.99083.280.4312.28                                                                                                                     \n",
      "3       7.30.280.351.60.054311480.991783.180.4710.75                                                                                                                     \n",
      "4           6.50.320.345.70.04427910.991843.280.6127                                                                                                                     \n"
     ]
    }
   ],
   "source": [
    "# Check the transformed test data\n",
    "test_data = pd.read_csv(Path(\"artifacts/data_transformation/test.csv\"), sep=';')\n",
    "print(\"Columns in test data:\")\n",
    "print(test_data.columns.tolist())\n",
    "print(\"\\nFirst few rows:\")\n",
    "print(test_data.head())"
   ]
  },
  {
   "cell_type": "code",
   "execution_count": 60,
   "id": "076295b5",
   "metadata": {},
   "outputs": [],
   "source": [
    "class ModelEvaluation:\n",
    "    def __init__(self, config: ModelEvaluationConfig):\n",
    "        self.config = config\n",
    "\n",
    "    def _preprocess_data(self, file_path):\n",
    "        # Read the raw data\n",
    "        with open(file_path, 'r') as f:\n",
    "            lines = f.readlines()\n",
    "        \n",
    "        # Get column names from first line, removing extra quotes\n",
    "        headers = lines[0].strip().strip('\"').split(';')\n",
    "        headers = [h.strip('\"') for h in headers]\n",
    "        \n",
    "        # Process data rows\n",
    "        data_rows = []\n",
    "        for line in lines[1:]:\n",
    "            values = line.strip().split(';')\n",
    "            data_rows.append(values)\n",
    "            \n",
    "        # Create DataFrame\n",
    "        df = pd.DataFrame(data_rows, columns=headers)\n",
    "        \n",
    "        # Convert numeric columns to appropriate types\n",
    "        for col in df.columns:\n",
    "            if col != 'quality':  # All columns except quality should be float\n",
    "                df[col] = pd.to_numeric(df[col], errors='coerce')\n",
    "            else:\n",
    "                df[col] = pd.to_numeric(df[col], errors='coerce', downcast='integer')\n",
    "        \n",
    "        print(f\"Processed data columns: {df.columns.tolist()}\")\n",
    "        print(f\"First few rows of processed data:\\n{df.head()}\")\n",
    "        \n",
    "        return df\n",
    "\n",
    "    def eval_metrics(self,actual, pred):\n",
    "        rmse = np.sqrt(mean_squared_error(actual, pred))\n",
    "        mae = mean_absolute_error(actual, pred)\n",
    "        r2 = r2_score(actual, pred)\n",
    "        return rmse, mae, r2\n",
    "    \n",
    "    def log_into_mlflow(self):\n",
    "        # Preprocess the test data\n",
    "        test_data = self._preprocess_data(self.config.test_data_path)\n",
    "        model = joblib.load(self.config.model_path)\n",
    "\n",
    "        test_x = test_data.drop([self.config.TARGET_COLUMN], axis=1)\n",
    "        test_y = test_data[[self.config.TARGET_COLUMN]]\n",
    "\n",
    "\n",
    "        # Set tracking URI but don't set registry URI for DagsHub\n",
    "        tracking_url_type_store = urlparse(mlflow.get_tracking_uri()).scheme\n",
    "\n",
    "        # Start an MLflow run\n",
    "        with mlflow.start_run():\n",
    "            # Make predictions\n",
    "            predicted_qualities = model.predict(test_x)\n",
    "            \n",
    "            # Calculate metrics\n",
    "            (rmse, mae, r2) = self.eval_metrics(test_y, predicted_qualities)\n",
    "            \n",
    "            # Save metrics locally\n",
    "            from anyio import Path as AnyioPath\n",
    "            scores = {\"rmse\": rmse, \"mae\": mae, \"r2\": r2}\n",
    "            save_json(path=AnyioPath(str(self.config.metrics_file_name)), data=scores)\n",
    "\n",
    "            # Log parameters and metrics to MLflow\n",
    "            mlflow.log_params(self.config.all_params)\n",
    "            mlflow.log_metric(\"rmse\", rmse)\n",
    "            mlflow.log_metric(\"r2\", r2)\n",
    "            mlflow.log_metric(\"mae\", mae)\n",
    "\n",
    "            # Log the model without registration\n",
    "            try:\n",
    "                # Log model artifacts\n",
    "                mlflow.sklearn.log_model(\n",
    "                    sk_model=model,\n",
    "                    artifact_path=\"model\",\n",
    "                )\n",
    "                print(f\"Model logged successfully in run {mlflow.active_run().info.run_id}\")\n",
    "            except Exception as e:\n",
    "                print(f\"Warning: Error while logging model: {str(e)}\")\n",
    "                print(\"Continuing with metric logging...\")\n",
    "    \n"
   ]
  },
  {
   "cell_type": "code",
   "execution_count": 61,
   "id": "6cc4f34d",
   "metadata": {},
   "outputs": [
    {
     "name": "stdout",
     "output_type": "stream",
     "text": [
      "[2025-08-28 07:57:14,758] INFO in common: YAML file c:\\Users\\akato\\Desktop\\MLOps\\datascienceproject_fullflow\\configs\\config.yaml loaded successfully.\n",
      "[2025-08-28 07:57:14,762] INFO in common: YAML file c:\\Users\\akato\\Desktop\\MLOps\\datascienceproject_fullflow\\params.yaml loaded successfully.\n",
      "[2025-08-28 07:57:14,768] INFO in common: YAML file c:\\Users\\akato\\Desktop\\MLOps\\datascienceproject_fullflow\\schema.yaml loaded successfully.\n",
      "[2025-08-28 07:57:14,771] INFO in common: created directory at: artifacts\n",
      "[2025-08-28 07:57:14,773] INFO in common: created directory at: artifacts/model_evaluation\n",
      "[2025-08-28 07:57:14,762] INFO in common: YAML file c:\\Users\\akato\\Desktop\\MLOps\\datascienceproject_fullflow\\params.yaml loaded successfully.\n",
      "[2025-08-28 07:57:14,768] INFO in common: YAML file c:\\Users\\akato\\Desktop\\MLOps\\datascienceproject_fullflow\\schema.yaml loaded successfully.\n",
      "[2025-08-28 07:57:14,771] INFO in common: created directory at: artifacts\n",
      "[2025-08-28 07:57:14,773] INFO in common: created directory at: artifacts/model_evaluation\n",
      "Processed data columns: ['fixed acidity', 'volatile acidity', 'citric acid', 'residual sugar', 'chlorides', 'free sulfur dioxide', 'total sulfur dioxide', 'density', 'pH', 'sulphates', 'alcohol', 'quality']\n",
      "First few rows of processed data:\n",
      "   fixed acidity  volatile acidity  citric acid  ...  sulphates    alcohol  quality\n",
      "0            6.0              0.29         0.41  ...       0.59  10.966667        7\n",
      "1            5.4              0.53         0.16  ...       0.53  13.200000        8\n",
      "2            7.1              0.25         0.39  ...       0.43  12.200000        8\n",
      "3            7.3              0.28         0.35  ...       0.47  10.700000        5\n",
      "4            6.5              0.32         0.34  ...       0.60  12.000000        7\n",
      "\n",
      "[5 rows x 12 columns]\n",
      "Processed data columns: ['fixed acidity', 'volatile acidity', 'citric acid', 'residual sugar', 'chlorides', 'free sulfur dioxide', 'total sulfur dioxide', 'density', 'pH', 'sulphates', 'alcohol', 'quality']\n",
      "First few rows of processed data:\n",
      "   fixed acidity  volatile acidity  citric acid  ...  sulphates    alcohol  quality\n",
      "0            6.0              0.29         0.41  ...       0.59  10.966667        7\n",
      "1            5.4              0.53         0.16  ...       0.53  13.200000        8\n",
      "2            7.1              0.25         0.39  ...       0.43  12.200000        8\n",
      "3            7.3              0.28         0.35  ...       0.47  10.700000        5\n",
      "4            6.5              0.32         0.34  ...       0.60  12.000000        7\n",
      "\n",
      "[5 rows x 12 columns]\n",
      "[2025-08-28 07:57:15,106] INFO in common: JSON file saved at: artifacts\\model_evaluation\\metrics.json\n",
      "[2025-08-28 07:57:15,106] INFO in common: JSON file saved at: artifacts\\model_evaluation\\metrics.json\n"
     ]
    },
    {
     "name": "stderr",
     "output_type": "stream",
     "text": [
      "2025/08/28 07:57:17 WARNING mlflow.models.model: `artifact_path` is deprecated. Please use `name` instead.\n"
     ]
    },
    {
     "name": "stdout",
     "output_type": "stream",
     "text": [
      "Warning: Error while logging model: INTERNAL_ERROR: Response: {'error': 'unsupported endpoint, please contact support@dagshub.com'}\n",
      "Continuing with metric logging...\n",
      "🏃 View run adventurous-robin-17 at: https://dagshub.com/akatoshleiwu/datascienceproject_fullflow.mlflow/#/experiments/0/runs/d9380992b7ac488fb728e2b6ad180fb1\n",
      "🧪 View experiment at: https://dagshub.com/akatoshleiwu/datascienceproject_fullflow.mlflow/#/experiments/0\n",
      "🏃 View run adventurous-robin-17 at: https://dagshub.com/akatoshleiwu/datascienceproject_fullflow.mlflow/#/experiments/0/runs/d9380992b7ac488fb728e2b6ad180fb1\n",
      "🧪 View experiment at: https://dagshub.com/akatoshleiwu/datascienceproject_fullflow.mlflow/#/experiments/0\n"
     ]
    }
   ],
   "source": [
    "try:\n",
    "    config = ConfigurationManager()\n",
    "    model_evaluation_config = config.get_model_evaluation_config()\n",
    "    model_evaluation = ModelEvaluation(config=model_evaluation_config)\n",
    "    model_evaluation.log_into_mlflow()\n",
    "except Exception as e:\n",
    "    raise e"
   ]
  },
  {
   "cell_type": "code",
   "execution_count": 22,
   "id": "d5e3db5e",
   "metadata": {},
   "outputs": [
    {
     "name": "stdout",
     "output_type": "stream",
     "text": [
      "Checking file at: c:\\Users\\akato\\Desktop\\MLOps\\datascienceproject_fullflow\\artifacts\\data_transformation\\test.csv\n",
      "File exists: True\n",
      "\n",
      "Test data info:\n",
      "<class 'pandas.core.frame.DataFrame'>\n",
      "MultiIndex: 980 entries, (np.float64(6.0), np.float64(0.29), np.float64(0.41), np.float64(10.8), np.float64(0.048), np.float64(55.0), np.float64(149.0), np.float64(0.9937), np.float64(3.09), np.float64(0.59), np.float64(10.9666666666667)) to (np.float64(6.7), np.float64(0.22), np.float64(0.39), np.float64(1.2), np.float64(0.049), np.float64(26.0), np.float64(152.0), np.float64(0.99346), np.float64(3.5), np.float64(0.47), np.float64(10.0))\n",
      "Data columns (total 1 columns):\n",
      " #   Column                                                                                                                                                                   Non-Null Count  Dtype\n",
      "---  ------                                                                                                                                                                   --------------  -----\n",
      " 0   fixed acidity;\"volatile acidity\";\"citric acid\";\"residual sugar\";\"chlorides\";\"free sulfur dioxide\";\"total sulfur dioxide\";\"density\";\"pH\";\"sulphates\";\"alcohol\";\"quality\"  980 non-null    int64\n",
      "dtypes: int64(1)\n",
      "memory usage: 77.3 KB\n",
      "None\n",
      "\n",
      "Test data columns:\n",
      "['fixed acidity;\"volatile acidity\";\"citric acid\";\"residual sugar\";\"chlorides\";\"free sulfur dioxide\";\"total sulfur dioxide\";\"density\";\"pH\";\"sulphates\";\"alcohol\";\"quality\"']\n",
      "\n",
      "First few rows:\n",
      "                                                                 fixed acidity;\"volatile acidity\";\"citric acid\";\"residual sugar\";\"chlorides\";\"free sulfur dioxide\";\"total sulfur dioxide\";\"density\";\"pH\";\"sulphates\";\"alcohol\";\"quality\"\n",
      "6.0 0.29 0.41 10.8 0.048 55.0 149.0 0.99370 3.09 0.59 10.966667                                                  7                                                                                                                      \n",
      "5.4 0.53 0.16 2.7  0.036 34.0 128.0 0.98856 3.20 0.53 13.200000                                                  8                                                                                                                      \n",
      "7.1 0.25 0.39 2.1  0.036 30.0 124.0 0.99080 3.28 0.43 12.200000                                                  8                                                                                                                      \n",
      "7.3 0.28 0.35 1.6  0.054 31.0 148.0 0.99178 3.18 0.47 10.700000                                                  5                                                                                                                      \n",
      "6.5 0.32 0.34 5.7  0.044 27.0 91.0  0.99184 3.28 0.60 12.000000                                                  7                                                                                                                      \n",
      "\n",
      "Raw content of first few lines:\n",
      "\"fixed acidity;\"\"volatile acidity\"\";\"\"citric acid\"\";\"\"residual sugar\"\";\"\"chlorides\"\";\"\"free sulfur dioxide\"\";\"\"total sulfur dioxide\"\";\"\"density\"\";\"\"pH\"\";\"\"sulphates\"\";\"\"alcohol\"\";\"\"quality\"\"\"\n",
      "6;0.29;0.41;10.8;0.048;55;149;0.9937;3.09;0.59;10.9666666666667;7\n",
      "[2025-08-27 08:23:26,171] INFO in common: YAML file c:\\Users\\akato\\Desktop\\MLOps\\datascienceproject_fullflow\\configs\\config.yaml loaded successfully.\n",
      "[2025-08-27 08:23:26,171] INFO in common: YAML file c:\\Users\\akato\\Desktop\\MLOps\\datascienceproject_fullflow\\params.yaml loaded successfully.\n",
      "\"fixed acidity;\"\"volatile acidity\"\";\"\"citric acid\"\";\"\"residual sugar\"\";\"\"chlorides\"\";\"\"free sulfur dioxide\"\";\"\"total sulfur dioxide\"\";\"\"density\"\";\"\"pH\"\";\"\"sulphates\"\";\"\"alcohol\"\";\"\"quality\"\"\"\n",
      "6;0.29;0.41;10.8;0.048;55;149;0.9937;3.09;0.59;10.9666666666667;7\n",
      "[2025-08-27 08:23:26,171] INFO in common: YAML file c:\\Users\\akato\\Desktop\\MLOps\\datascienceproject_fullflow\\configs\\config.yaml loaded successfully.\n",
      "[2025-08-27 08:23:26,171] INFO in common: YAML file c:\\Users\\akato\\Desktop\\MLOps\\datascienceproject_fullflow\\params.yaml loaded successfully.\n",
      "[2025-08-27 08:23:26,180] INFO in common: YAML file c:\\Users\\akato\\Desktop\\MLOps\\datascienceproject_fullflow\\schema.yaml loaded successfully.\n",
      "[2025-08-27 08:23:26,182] INFO in common: created directory at: artifacts\n",
      "[2025-08-27 08:23:26,184] INFO in common: created directory at: artifacts/model_evaluation\n",
      "\n",
      "Target column from config:\n",
      "Original: 'quality'\n",
      "Stripped: 'quality'\n",
      "[2025-08-27 08:23:26,180] INFO in common: YAML file c:\\Users\\akato\\Desktop\\MLOps\\datascienceproject_fullflow\\schema.yaml loaded successfully.\n",
      "[2025-08-27 08:23:26,182] INFO in common: created directory at: artifacts\n",
      "[2025-08-27 08:23:26,184] INFO in common: created directory at: artifacts/model_evaluation\n",
      "\n",
      "Target column from config:\n",
      "Original: 'quality'\n",
      "Stripped: 'quality'\n"
     ]
    }
   ],
   "source": [
    "# Debug cell - Check test data\n",
    "import pandas as pd\n",
    "from pathlib import Path\n",
    "\n",
    "# First check if the file exists\n",
    "test_data_path = Path(\"artifacts/data_transformation/test.csv\")\n",
    "print(f\"Checking file at: {test_data_path.absolute()}\")\n",
    "print(f\"File exists: {test_data_path.exists()}\\n\")\n",
    "\n",
    "try:\n",
    "    # Try reading with explicit encoding\n",
    "    test_data = pd.read_csv(test_data_path, sep=';', encoding='utf-8')\n",
    "    \n",
    "    print(\"Test data info:\")\n",
    "    print(test_data.info())\n",
    "    \n",
    "    print(\"\\nTest data columns:\")\n",
    "    print(test_data.columns.tolist())\n",
    "    \n",
    "    print(\"\\nFirst few rows:\")\n",
    "    print(test_data.head())\n",
    "    \n",
    "    # Print raw content of first few lines to check for formatting issues\n",
    "    print(\"\\nRaw content of first few lines:\")\n",
    "    with open(test_data_path, 'r', encoding='utf-8') as f:\n",
    "        print(f.readline().strip())  # header line\n",
    "        print(f.readline().strip())  # first data line\n",
    "    \n",
    "    # Print target column name for verification\n",
    "    config = ConfigurationManager()\n",
    "    model_evaluation_config = config.get_model_evaluation_config()\n",
    "    print(\"\\nTarget column from config:\")\n",
    "    print(f\"Original: '{model_evaluation_config.TARGET_COLUMN}'\")\n",
    "    stripped_target = model_evaluation_config.TARGET_COLUMN.strip().strip('\"')\n",
    "    print(f\"Stripped: '{stripped_target}'\")\n",
    "\n",
    "except Exception as e:\n",
    "    print(f\"Error reading file: {str(e)}\")\n",
    "    \n",
    "    # If there was an error, try to read the raw file content\n",
    "    try:\n",
    "        print(\"\\nAttempting to read raw file content:\")\n",
    "        with open(test_data_path, 'r', encoding='utf-8') as f:\n",
    "            print(f.read(500))  # Read first 500 characters\n",
    "    except Exception as e2:\n",
    "        print(f\"Error reading raw file: {str(e2)}\")"
   ]
  },
  {
   "cell_type": "code",
   "execution_count": null,
   "id": "dad215c5",
   "metadata": {},
   "outputs": [],
   "source": []
  }
 ],
 "metadata": {
  "kernelspec": {
   "display_name": "venv",
   "language": "python",
   "name": "python3"
  },
  "language_info": {
   "codemirror_mode": {
    "name": "ipython",
    "version": 3
   },
   "file_extension": ".py",
   "mimetype": "text/x-python",
   "name": "python",
   "nbconvert_exporter": "python",
   "pygments_lexer": "ipython3",
   "version": "3.10.0"
  }
 },
 "nbformat": 4,
 "nbformat_minor": 5
}
