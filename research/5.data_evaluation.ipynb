{
 "cells": [
  {
   "cell_type": "code",
   "execution_count": 42,
   "id": "8ce60e49",
   "metadata": {},
   "outputs": [],
   "source": [
    "import os\n",
    "os.environ[\"MLFLOW_TRACKING_URI\"] = \"https://dagshub.com/akatoshleiwu/datascienceproject_fullflow.mlflow\"\n",
    "os.environ[\"MLFLOW_TRACKING_USERNAME\"] = \"akatoshleiwu\"\n",
    "os.environ[\"MLFLOW_TRACKING_PASSWORD\"] = \"828c62a7c6fa418a0cc0a545305fd26075c66053\""
   ]
  },
  {
   "cell_type": "code",
   "execution_count": 43,
   "id": "3dff4122",
   "metadata": {},
   "outputs": [
    {
     "data": {
      "text/plain": [
       "'c:\\\\Users\\\\akato\\\\Desktop\\\\MLOps\\\\datascienceproject_fullflow'"
      ]
     },
     "execution_count": 43,
     "metadata": {},
     "output_type": "execute_result"
    }
   ],
   "source": [
    "import os\n",
    "%pwd"
   ]
  },
  {
   "cell_type": "code",
   "execution_count": 5,
   "id": "058f2d48",
   "metadata": {},
   "outputs": [
    {
     "data": {
      "text/plain": [
       "'c:\\\\Users\\\\akato\\\\Desktop\\\\MLOps\\\\datascienceproject_fullflow'"
      ]
     },
     "execution_count": 5,
     "metadata": {},
     "output_type": "execute_result"
    }
   ],
   "source": [
    "os.chdir(\"../\")\n",
    "%pwd"
   ]
  },
  {
   "cell_type": "code",
   "execution_count": 44,
   "id": "35d0c555",
   "metadata": {},
   "outputs": [],
   "source": [
    "# set up entity\n",
    "\n",
    "from dataclasses import dataclass\n",
    "from pathlib import Path\n",
    "\n",
    "@dataclass\n",
    "class ModelEvaluationConfig:\n",
    "    root_dir: Path\n",
    "    test_data_path: Path\n",
    "    model_path: Path\n",
    "    all_params: dict\n",
    "    metrics_file_name: Path\n",
    "    TARGET_COLUMN: str\n",
    "    mlflow_uri: str"
   ]
  },
  {
   "cell_type": "code",
   "execution_count": 45,
   "id": "6dc94c47",
   "metadata": {},
   "outputs": [],
   "source": [
    "# set up configuration manager\n",
    "from src.datascienceproject.constant import *  # Import all constants\n",
    "from src.datascienceproject.utils.common import read_yaml, create_directories,save_json  # Import specific utility functions"
   ]
  },
  {
   "cell_type": "code",
   "execution_count": 46,
   "id": "3e0fccba",
   "metadata": {},
   "outputs": [],
   "source": [
    "class ConfigurationManager:\n",
    "    def __init__(self,\n",
    "                 config_filepath=CONFIG_FILE_PATH,\n",
    "                 params_filepath=PARAMS_FILE_PATH,\n",
    "                 schema_filepath=SCHEMA_FILE_PATH):\n",
    "        # Convert paths to strings for read_yaml\n",
    "        self.config = read_yaml(str(config_filepath))\n",
    "        self.params = read_yaml(str(params_filepath))\n",
    "        self.schema = read_yaml(str(schema_filepath))\n",
    "\n",
    "        create_directories([self.config.artifacts_root])\n",
    "\n",
    "    def get_model_evaluation_config(self) -> ModelEvaluationConfig:\n",
    "        config=self.config.model_evaluation\n",
    "        params=self.params.ElasticNet\n",
    "        schema=self.schema.TARGET_COLUMN\n",
    "\n",
    "        create_directories([config.root_dir])\n",
    "        \n",
    "        model_evaluation_config = ModelEvaluationConfig(\n",
    "            root_dir=config.root_dir,\n",
    "            test_data_path=config.test_data_path,\n",
    "            model_path=config.model_path,\n",
    "            all_params=params,\n",
    "            metrics_file_name=config.metrics_file_name,\n",
    "            TARGET_COLUMN=schema.name,\n",
    "            mlflow_uri=\"https://dagshub.com/akatoshleiwu/datascienceproject_fullflow.mlflow\"\n",
    "        )\n",
    "        return model_evaluation_config"
   ]
  },
  {
   "cell_type": "code",
   "execution_count": 47,
   "id": "730032fa",
   "metadata": {},
   "outputs": [],
   "source": [
    "# set up evaluation matrics\n",
    "import os\n",
    "import pandas as pd\n",
    "from sklearn.metrics import mean_squared_error, mean_absolute_error, r2_score\n",
    "from urllib.parse import urlparse\n",
    "import mlflow\n",
    "import mlflow.sklearn\n",
    "import numpy as np\n",
    "import joblib"
   ]
  },
  {
   "cell_type": "code",
   "execution_count": 48,
   "id": "dab450e5",
   "metadata": {},
   "outputs": [
    {
     "name": "stdout",
     "output_type": "stream",
     "text": [
      "Columns in test data:\n",
      "['fixed acidity;\"volatile acidity\";\"citric acid\";\"residual sugar\";\"chlorides\";\"free sulfur dioxide\";\"total sulfur dioxide\";\"density\";\"pH\";\"sulphates\";\"alcohol\";\"quality\"']\n",
      "\n",
      "First few rows:\n",
      "  fixed acidity;\"volatile acidity\";\"citric acid\";\"residual sugar\";\"chlorides\";\"free sulfur dioxide\";\"total sulfur dioxide\";\"density\";\"pH\";\"sulphates\";\"alcohol\";\"quality\"\n",
      "0  60.290.4110.80.048551490.99373.090.5910.966666...                                                                                                                     \n",
      "1        5.40.530.162.70.036341280.988563.20.5313.28                                                                                                                     \n",
      "2        7.10.250.392.10.036301240.99083.280.4312.28                                                                                                                     \n",
      "3       7.30.280.351.60.054311480.991783.180.4710.75                                                                                                                     \n",
      "4           6.50.320.345.70.04427910.991843.280.6127                                                                                                                     \n",
      "  fixed acidity;\"volatile acidity\";\"citric acid\";\"residual sugar\";\"chlorides\";\"free sulfur dioxide\";\"total sulfur dioxide\";\"density\";\"pH\";\"sulphates\";\"alcohol\";\"quality\"\n",
      "0  60.290.4110.80.048551490.99373.090.5910.966666...                                                                                                                     \n",
      "1        5.40.530.162.70.036341280.988563.20.5313.28                                                                                                                     \n",
      "2        7.10.250.392.10.036301240.99083.280.4312.28                                                                                                                     \n",
      "3       7.30.280.351.60.054311480.991783.180.4710.75                                                                                                                     \n",
      "4           6.50.320.345.70.04427910.991843.280.6127                                                                                                                     \n"
     ]
    }
   ],
   "source": [
    "# Check the transformed test data\n",
    "test_data = pd.read_csv(Path(\"artifacts/data_transformation/test.csv\"), sep=';')\n",
    "print(\"Columns in test data:\")\n",
    "print(test_data.columns.tolist())\n",
    "print(\"\\nFirst few rows:\")\n",
    "print(test_data.head())"
   ]
  },
  {
   "cell_type": "code",
   "execution_count": null,
   "id": "076295b5",
   "metadata": {},
   "outputs": [],
   "source": [
    "class ModelEvaluation:\n",
    "    def __init__(self, config: ModelEvaluationConfig):\n",
    "        self.config = config\n",
    "\n",
    "    def _preprocess_data(self, file_path):\n",
    "        # Read the raw data\n",
    "        with open(file_path, 'r') as f:\n",
    "            lines = f.readlines()\n",
    "        \n",
    "        # Get column names from first line, removing extra quotes\n",
    "        headers = lines[0].strip().strip('\"').split(';')\n",
    "        headers = [h.strip('\"') for h in headers]\n",
    "        \n",
    "        # Process data rows\n",
    "        data_rows = []\n",
    "        for line in lines[1:]:\n",
    "            values = line.strip().split(';')\n",
    "            data_rows.append(values)\n",
    "            \n",
    "        # Create DataFrame\n",
    "        df = pd.DataFrame(data_rows, columns=headers)\n",
    "        \n",
    "        # Convert numeric columns to appropriate types\n",
    "        for col in df.columns:\n",
    "            if col != 'quality':  # All columns except quality should be float\n",
    "                df[col] = pd.to_numeric(df[col], errors='coerce')\n",
    "            else:\n",
    "                df[col] = pd.to_numeric(df[col], errors='coerce', downcast='integer')\n",
    "        \n",
    "        print(f\"Processed data columns: {df.columns.tolist()}\")\n",
    "        print(f\"First few rows of processed data:\\n{df.head()}\")\n",
    "        \n",
    "        return df\n",
    "\n",
    "    def eval_metrics(self,actual, pred):\n",
    "        rmse = np.sqrt(mean_squared_error(actual, pred))\n",
    "        mae = mean_absolute_error(actual, pred)\n",
    "        r2 = r2_score(actual, pred)\n",
    "        return rmse, mae, r2\n",
    "    \n",
    "    def log_into_mlflow(self):\n",
    "        # Preprocess the test data\n",
    "        test_data = self._preprocess_data(self.config.test_data_path)\n",
    "        model = joblib.load(self.config.model_path)\n",
    "\n",
    "        test_x = test_data.drop([self.config.TARGET_COLUMN], axis=1)\n",
    "        test_y = test_data[[self.config.TARGET_COLUMN]]\n",
    "\n",
    "\n",
    "        # Set tracking URI but don't set registry URI for DagsHub\n",
    "        tracking_url_type_store = urlparse(mlflow.get_tracking_uri()).scheme\n",
    "\n",
    "        # Start an MLflow run\n",
    "        with mlflow.start_run():\n",
    "            # Make predictions\n",
    "            predicted_qualities = model.predict(test_x)\n",
    "            \n",
    "            # Calculate metrics\n",
    "            (rmse, mae, r2) = self.eval_metrics(test_y, predicted_qualities)\n",
    "            \n",
    "            # Save metrics locally\n",
    "            from anyio import Path as AnyioPath\n",
    "            scores = {\"rmse\": rmse, \"mae\": mae, \"r2\": r2}\n",
    "            save_json(path=AnyioPath(str(self.config.metrics_file_name)), data=scores)\n",
    "\n",
    "            # Log parameters and metrics to MLflow\n",
    "            mlflow.log_params(self.config.all_params)\n",
    "            mlflow.log_metric(\"rmse\", rmse)\n",
    "            mlflow.log_metric(\"r2\", r2)\n",
    "            mlflow.log_metric(\"mae\", mae)\n",
    "\n",
    "            # Log the model without registration\n",
    "            try:\n",
    "                # Log model artifacts\n",
    "                mlflow.sklearn.log_model(\n",
    "                    sk_model=model,\n",
    "                    artifact_path=\"model\",\n",
    "                )\n",
    "                print(f\"Model logged successfully in run {mlflow.active_run().info.run_id}\")\n",
    "            except Exception as e:\n",
    "                print(f\"Warning: Error while logging model: {str(e)}\")\n",
    "                print(\"Continuing with metric logging...\")\n",
    "    \n"
   ]
  },
  {
   "cell_type": "code",
   "execution_count": 59,
   "id": "6cc4f34d",
   "metadata": {},
   "outputs": [
    {
     "name": "stdout",
     "output_type": "stream",
     "text": [
      "[2025-08-28 07:55:36,499] INFO in common: YAML file c:\\Users\\akato\\Desktop\\MLOps\\datascienceproject_fullflow\\configs\\config.yaml loaded successfully.\n",
      "[2025-08-28 07:55:36,503] INFO in common: YAML file c:\\Users\\akato\\Desktop\\MLOps\\datascienceproject_fullflow\\params.yaml loaded successfully.\n",
      "[2025-08-28 07:55:36,511] INFO in common: YAML file c:\\Users\\akato\\Desktop\\MLOps\\datascienceproject_fullflow\\schema.yaml loaded successfully.\n",
      "[2025-08-28 07:55:36,514] INFO in common: created directory at: artifacts\n",
      "[2025-08-28 07:55:36,503] INFO in common: YAML file c:\\Users\\akato\\Desktop\\MLOps\\datascienceproject_fullflow\\params.yaml loaded successfully.\n",
      "[2025-08-28 07:55:36,511] INFO in common: YAML file c:\\Users\\akato\\Desktop\\MLOps\\datascienceproject_fullflow\\schema.yaml loaded successfully.\n",
      "[2025-08-28 07:55:36,514] INFO in common: created directory at: artifacts\n",
      "[2025-08-28 07:55:36,517] INFO in common: created directory at: artifacts/model_evaluation\n",
      "[2025-08-28 07:55:36,517] INFO in common: created directory at: artifacts/model_evaluation\n",
      "Processed data columns: ['fixed acidity', 'volatile acidity', 'citric acid', 'residual sugar', 'chlorides', 'free sulfur dioxide', 'total sulfur dioxide', 'density', 'pH', 'sulphates', 'alcohol', 'quality']\n",
      "First few rows of processed data:\n",
      "   fixed acidity  volatile acidity  citric acid  ...  sulphates    alcohol  quality\n",
      "0            6.0              0.29         0.41  ...       0.59  10.966667        7\n",
      "1            5.4              0.53         0.16  ...       0.53  13.200000        8\n",
      "2            7.1              0.25         0.39  ...       0.43  12.200000        8\n",
      "3            7.3              0.28         0.35  ...       0.47  10.700000        5\n",
      "4            6.5              0.32         0.34  ...       0.60  12.000000        7\n",
      "\n",
      "[5 rows x 12 columns]\n",
      "Processed data columns: ['fixed acidity', 'volatile acidity', 'citric acid', 'residual sugar', 'chlorides', 'free sulfur dioxide', 'total sulfur dioxide', 'density', 'pH', 'sulphates', 'alcohol', 'quality']\n",
      "First few rows of processed data:\n",
      "   fixed acidity  volatile acidity  citric acid  ...  sulphates    alcohol  quality\n",
      "0            6.0              0.29         0.41  ...       0.59  10.966667        7\n",
      "1            5.4              0.53         0.16  ...       0.53  13.200000        8\n",
      "2            7.1              0.25         0.39  ...       0.43  12.200000        8\n",
      "3            7.3              0.28         0.35  ...       0.47  10.700000        5\n",
      "4            6.5              0.32         0.34  ...       0.60  12.000000        7\n",
      "\n",
      "[5 rows x 12 columns]\n",
      "[2025-08-28 07:55:36,977] INFO in common: JSON file saved at: artifacts\\model_evaluation\\metrics.json\n",
      "[2025-08-28 07:55:36,977] INFO in common: JSON file saved at: artifacts\\model_evaluation\\metrics.json\n"
     ]
    },
    {
     "name": "stderr",
     "output_type": "stream",
     "text": [
      "2025/08/28 07:55:39 WARNING mlflow.models.model: `artifact_path` is deprecated. Please use `name` instead.\n"
     ]
    },
    {
     "name": "stdout",
     "output_type": "stream",
     "text": [
      "🏃 View run useful-boar-387 at: https://dagshub.com/akatoshleiwu/datascienceproject_fullflow.mlflow/#/experiments/0/runs/4fdffc7fa20b4f2ead0b1e79f9530b97\n",
      "🧪 View experiment at: https://dagshub.com/akatoshleiwu/datascienceproject_fullflow.mlflow/#/experiments/0\n"
     ]
    },
    {
     "ename": "RestException",
     "evalue": "INTERNAL_ERROR: Response: {'error': 'unsupported endpoint, please contact support@dagshub.com'}",
     "output_type": "error",
     "traceback": [
      "\u001b[1;31m---------------------------------------------------------------------------\u001b[0m",
      "\u001b[1;31mRestException\u001b[0m                             Traceback (most recent call last)",
      "Cell \u001b[1;32mIn[59], line 7\u001b[0m\n\u001b[0;32m      5\u001b[0m     model_evaluation\u001b[38;5;241m.\u001b[39mlog_into_mlflow()\n\u001b[0;32m      6\u001b[0m \u001b[38;5;28;01mexcept\u001b[39;00m \u001b[38;5;167;01mException\u001b[39;00m \u001b[38;5;28;01mas\u001b[39;00m e:\n\u001b[1;32m----> 7\u001b[0m     \u001b[38;5;28;01mraise\u001b[39;00m e\n",
      "Cell \u001b[1;32mIn[59], line 5\u001b[0m\n\u001b[0;32m      3\u001b[0m     model_evaluation_config \u001b[38;5;241m=\u001b[39m config\u001b[38;5;241m.\u001b[39mget_model_evaluation_config()\n\u001b[0;32m      4\u001b[0m     model_evaluation \u001b[38;5;241m=\u001b[39m ModelEvaluation(config\u001b[38;5;241m=\u001b[39mmodel_evaluation_config)\n\u001b[1;32m----> 5\u001b[0m     \u001b[43mmodel_evaluation\u001b[49m\u001b[38;5;241;43m.\u001b[39;49m\u001b[43mlog_into_mlflow\u001b[49m\u001b[43m(\u001b[49m\u001b[43m)\u001b[49m\n\u001b[0;32m      6\u001b[0m \u001b[38;5;28;01mexcept\u001b[39;00m \u001b[38;5;167;01mException\u001b[39;00m \u001b[38;5;28;01mas\u001b[39;00m e:\n\u001b[0;32m      7\u001b[0m     \u001b[38;5;28;01mraise\u001b[39;00m e\n",
      "Cell \u001b[1;32mIn[58], line 79\u001b[0m, in \u001b[0;36mModelEvaluation.log_into_mlflow\u001b[1;34m(self)\u001b[0m\n\u001b[0;32m     72\u001b[0m \u001b[38;5;66;03m# Model registry does not work with file store\u001b[39;00m\n\u001b[0;32m     73\u001b[0m \u001b[38;5;28;01mif\u001b[39;00m tracking_url_type_store \u001b[38;5;241m!=\u001b[39m \u001b[38;5;124m\"\u001b[39m\u001b[38;5;124mfile\u001b[39m\u001b[38;5;124m\"\u001b[39m:\n\u001b[0;32m     74\u001b[0m \n\u001b[0;32m     75\u001b[0m     \u001b[38;5;66;03m# Register the model\u001b[39;00m\n\u001b[0;32m     76\u001b[0m     \u001b[38;5;66;03m# There are other ways to use the Model Registry, which depends on the use case,\u001b[39;00m\n\u001b[0;32m     77\u001b[0m     \u001b[38;5;66;03m# please refer to the doc for more information:\u001b[39;00m\n\u001b[0;32m     78\u001b[0m     \u001b[38;5;66;03m# https://mlflow.org/docs/latest/model-registry.html#api-workflow\u001b[39;00m\n\u001b[1;32m---> 79\u001b[0m     \u001b[43mmlflow\u001b[49m\u001b[38;5;241;43m.\u001b[39;49m\u001b[43msklearn\u001b[49m\u001b[38;5;241;43m.\u001b[39;49m\u001b[43mlog_model\u001b[49m\u001b[43m(\u001b[49m\u001b[43mmodel\u001b[49m\u001b[43m,\u001b[49m\u001b[43m \u001b[49m\u001b[38;5;124;43m\"\u001b[39;49m\u001b[38;5;124;43mmodel\u001b[39;49m\u001b[38;5;124;43m\"\u001b[39;49m\u001b[43m,\u001b[49m\u001b[43m \u001b[49m\u001b[43mregistered_model_name\u001b[49m\u001b[38;5;241;43m=\u001b[39;49m\u001b[38;5;124;43m\"\u001b[39;49m\u001b[38;5;124;43mElasticnetModel\u001b[39;49m\u001b[38;5;124;43m\"\u001b[39;49m\u001b[43m)\u001b[49m\n\u001b[0;32m     80\u001b[0m \u001b[38;5;28;01melse\u001b[39;00m:\n\u001b[0;32m     81\u001b[0m     mlflow\u001b[38;5;241m.\u001b[39msklearn\u001b[38;5;241m.\u001b[39mlog_model(model, \u001b[38;5;124m\"\u001b[39m\u001b[38;5;124mmodel\u001b[39m\u001b[38;5;124m\"\u001b[39m)\n",
      "File \u001b[1;32mc:\\Users\\akato\\Desktop\\MLOps\\datascienceproject_fullflow\\venv\\lib\\site-packages\\mlflow\\sklearn\\__init__.py:426\u001b[0m, in \u001b[0;36mlog_model\u001b[1;34m(sk_model, artifact_path, conda_env, code_paths, serialization_format, registered_model_name, signature, input_example, await_registration_for, pip_requirements, extra_pip_requirements, pyfunc_predict_fn, metadata, params, tags, model_type, step, model_id, name)\u001b[0m\n\u001b[0;32m    334\u001b[0m \u001b[38;5;129m@format_docstring\u001b[39m(LOG_MODEL_PARAM_DOCS\u001b[38;5;241m.\u001b[39mformat(package_name\u001b[38;5;241m=\u001b[39m\u001b[38;5;124m\"\u001b[39m\u001b[38;5;124mscikit-learn\u001b[39m\u001b[38;5;124m\"\u001b[39m))\n\u001b[0;32m    335\u001b[0m \u001b[38;5;28;01mdef\u001b[39;00m\u001b[38;5;250m \u001b[39m\u001b[38;5;21mlog_model\u001b[39m(\n\u001b[0;32m    336\u001b[0m     sk_model,\n\u001b[1;32m   (...)\u001b[0m\n\u001b[0;32m    355\u001b[0m     name: \u001b[38;5;28mstr\u001b[39m \u001b[38;5;241m|\u001b[39m \u001b[38;5;28;01mNone\u001b[39;00m \u001b[38;5;241m=\u001b[39m \u001b[38;5;28;01mNone\u001b[39;00m,\n\u001b[0;32m    356\u001b[0m ):\n\u001b[0;32m    357\u001b[0m \u001b[38;5;250m    \u001b[39m\u001b[38;5;124;03m\"\"\"\u001b[39;00m\n\u001b[0;32m    358\u001b[0m \u001b[38;5;124;03m    Log a scikit-learn model as an MLflow artifact for the current run. Produces an MLflow Model\u001b[39;00m\n\u001b[0;32m    359\u001b[0m \u001b[38;5;124;03m    containing the following flavors:\u001b[39;00m\n\u001b[1;32m   (...)\u001b[0m\n\u001b[0;32m    424\u001b[0m \n\u001b[0;32m    425\u001b[0m \u001b[38;5;124;03m    \"\"\"\u001b[39;00m\n\u001b[1;32m--> 426\u001b[0m     \u001b[38;5;28;01mreturn\u001b[39;00m \u001b[43mModel\u001b[49m\u001b[38;5;241;43m.\u001b[39;49m\u001b[43mlog\u001b[49m\u001b[43m(\u001b[49m\n\u001b[0;32m    427\u001b[0m \u001b[43m        \u001b[49m\u001b[43martifact_path\u001b[49m\u001b[38;5;241;43m=\u001b[39;49m\u001b[43martifact_path\u001b[49m\u001b[43m,\u001b[49m\n\u001b[0;32m    428\u001b[0m \u001b[43m        \u001b[49m\u001b[43mname\u001b[49m\u001b[38;5;241;43m=\u001b[39;49m\u001b[43mname\u001b[49m\u001b[43m,\u001b[49m\n\u001b[0;32m    429\u001b[0m \u001b[43m        \u001b[49m\u001b[43mflavor\u001b[49m\u001b[38;5;241;43m=\u001b[39;49m\u001b[43mmlflow\u001b[49m\u001b[38;5;241;43m.\u001b[39;49m\u001b[43msklearn\u001b[49m\u001b[43m,\u001b[49m\n\u001b[0;32m    430\u001b[0m \u001b[43m        \u001b[49m\u001b[43msk_model\u001b[49m\u001b[38;5;241;43m=\u001b[39;49m\u001b[43msk_model\u001b[49m\u001b[43m,\u001b[49m\n\u001b[0;32m    431\u001b[0m \u001b[43m        \u001b[49m\u001b[43mconda_env\u001b[49m\u001b[38;5;241;43m=\u001b[39;49m\u001b[43mconda_env\u001b[49m\u001b[43m,\u001b[49m\n\u001b[0;32m    432\u001b[0m \u001b[43m        \u001b[49m\u001b[43mcode_paths\u001b[49m\u001b[38;5;241;43m=\u001b[39;49m\u001b[43mcode_paths\u001b[49m\u001b[43m,\u001b[49m\n\u001b[0;32m    433\u001b[0m \u001b[43m        \u001b[49m\u001b[43mserialization_format\u001b[49m\u001b[38;5;241;43m=\u001b[39;49m\u001b[43mserialization_format\u001b[49m\u001b[43m,\u001b[49m\n\u001b[0;32m    434\u001b[0m \u001b[43m        \u001b[49m\u001b[43mregistered_model_name\u001b[49m\u001b[38;5;241;43m=\u001b[39;49m\u001b[43mregistered_model_name\u001b[49m\u001b[43m,\u001b[49m\n\u001b[0;32m    435\u001b[0m \u001b[43m        \u001b[49m\u001b[43msignature\u001b[49m\u001b[38;5;241;43m=\u001b[39;49m\u001b[43msignature\u001b[49m\u001b[43m,\u001b[49m\n\u001b[0;32m    436\u001b[0m \u001b[43m        \u001b[49m\u001b[43minput_example\u001b[49m\u001b[38;5;241;43m=\u001b[39;49m\u001b[43minput_example\u001b[49m\u001b[43m,\u001b[49m\n\u001b[0;32m    437\u001b[0m \u001b[43m        \u001b[49m\u001b[43mawait_registration_for\u001b[49m\u001b[38;5;241;43m=\u001b[39;49m\u001b[43mawait_registration_for\u001b[49m\u001b[43m,\u001b[49m\n\u001b[0;32m    438\u001b[0m \u001b[43m        \u001b[49m\u001b[43mpip_requirements\u001b[49m\u001b[38;5;241;43m=\u001b[39;49m\u001b[43mpip_requirements\u001b[49m\u001b[43m,\u001b[49m\n\u001b[0;32m    439\u001b[0m \u001b[43m        \u001b[49m\u001b[43mextra_pip_requirements\u001b[49m\u001b[38;5;241;43m=\u001b[39;49m\u001b[43mextra_pip_requirements\u001b[49m\u001b[43m,\u001b[49m\n\u001b[0;32m    440\u001b[0m \u001b[43m        \u001b[49m\u001b[43mpyfunc_predict_fn\u001b[49m\u001b[38;5;241;43m=\u001b[39;49m\u001b[43mpyfunc_predict_fn\u001b[49m\u001b[43m,\u001b[49m\n\u001b[0;32m    441\u001b[0m \u001b[43m        \u001b[49m\u001b[43mmetadata\u001b[49m\u001b[38;5;241;43m=\u001b[39;49m\u001b[43mmetadata\u001b[49m\u001b[43m,\u001b[49m\n\u001b[0;32m    442\u001b[0m \u001b[43m        \u001b[49m\u001b[43mparams\u001b[49m\u001b[38;5;241;43m=\u001b[39;49m\u001b[43mparams\u001b[49m\u001b[43m,\u001b[49m\n\u001b[0;32m    443\u001b[0m \u001b[43m        \u001b[49m\u001b[43mtags\u001b[49m\u001b[38;5;241;43m=\u001b[39;49m\u001b[43mtags\u001b[49m\u001b[43m,\u001b[49m\n\u001b[0;32m    444\u001b[0m \u001b[43m        \u001b[49m\u001b[43mmodel_type\u001b[49m\u001b[38;5;241;43m=\u001b[39;49m\u001b[43mmodel_type\u001b[49m\u001b[43m,\u001b[49m\n\u001b[0;32m    445\u001b[0m \u001b[43m        \u001b[49m\u001b[43mstep\u001b[49m\u001b[38;5;241;43m=\u001b[39;49m\u001b[43mstep\u001b[49m\u001b[43m,\u001b[49m\n\u001b[0;32m    446\u001b[0m \u001b[43m        \u001b[49m\u001b[43mmodel_id\u001b[49m\u001b[38;5;241;43m=\u001b[39;49m\u001b[43mmodel_id\u001b[49m\u001b[43m,\u001b[49m\n\u001b[0;32m    447\u001b[0m \u001b[43m    \u001b[49m\u001b[43m)\u001b[49m\n",
      "File \u001b[1;32mc:\\Users\\akato\\Desktop\\MLOps\\datascienceproject_fullflow\\venv\\lib\\site-packages\\mlflow\\models\\model.py:1166\u001b[0m, in \u001b[0;36mModel.log\u001b[1;34m(cls, artifact_path, flavor, registered_model_name, await_registration_for, metadata, run_id, resources, auth_policy, prompts, name, model_type, params, tags, step, model_id, **kwargs)\u001b[0m\n\u001b[0;32m   1161\u001b[0m \u001b[38;5;28;01melse\u001b[39;00m:\n\u001b[0;32m   1162\u001b[0m     params \u001b[38;5;241m=\u001b[39m {\n\u001b[0;32m   1163\u001b[0m         \u001b[38;5;241m*\u001b[39m\u001b[38;5;241m*\u001b[39m(params \u001b[38;5;129;01mor\u001b[39;00m {}),\n\u001b[0;32m   1164\u001b[0m         \u001b[38;5;241m*\u001b[39m\u001b[38;5;241m*\u001b[39m(client\u001b[38;5;241m.\u001b[39mget_run(run_id)\u001b[38;5;241m.\u001b[39mdata\u001b[38;5;241m.\u001b[39mparams \u001b[38;5;28;01mif\u001b[39;00m run_id \u001b[38;5;28;01melse\u001b[39;00m {}),\n\u001b[0;32m   1165\u001b[0m     }\n\u001b[1;32m-> 1166\u001b[0m     model \u001b[38;5;241m=\u001b[39m \u001b[43m_create_logged_model\u001b[49m\u001b[43m(\u001b[49m\n\u001b[0;32m   1167\u001b[0m \u001b[43m        \u001b[49m\u001b[38;5;66;43;03m# TODO: Update model name\u001b[39;49;00m\n\u001b[0;32m   1168\u001b[0m \u001b[43m        \u001b[49m\u001b[43mname\u001b[49m\u001b[38;5;241;43m=\u001b[39;49m\u001b[43mname\u001b[49m\u001b[43m,\u001b[49m\n\u001b[0;32m   1169\u001b[0m \u001b[43m        \u001b[49m\u001b[43msource_run_id\u001b[49m\u001b[38;5;241;43m=\u001b[39;49m\u001b[43mrun_id\u001b[49m\u001b[43m,\u001b[49m\n\u001b[0;32m   1170\u001b[0m \u001b[43m        \u001b[49m\u001b[43mmodel_type\u001b[49m\u001b[38;5;241;43m=\u001b[39;49m\u001b[43mmodel_type\u001b[49m\u001b[43m,\u001b[49m\n\u001b[0;32m   1171\u001b[0m \u001b[43m        \u001b[49m\u001b[43mparams\u001b[49m\u001b[38;5;241;43m=\u001b[39;49m\u001b[43m{\u001b[49m\u001b[43mkey\u001b[49m\u001b[43m:\u001b[49m\u001b[43m \u001b[49m\u001b[38;5;28;43mstr\u001b[39;49m\u001b[43m(\u001b[49m\u001b[43mvalue\u001b[49m\u001b[43m)\u001b[49m\u001b[43m \u001b[49m\u001b[38;5;28;43;01mfor\u001b[39;49;00m\u001b[43m \u001b[49m\u001b[43mkey\u001b[49m\u001b[43m,\u001b[49m\u001b[43m \u001b[49m\u001b[43mvalue\u001b[49m\u001b[43m \u001b[49m\u001b[38;5;129;43;01min\u001b[39;49;00m\u001b[43m \u001b[49m\u001b[43mparams\u001b[49m\u001b[38;5;241;43m.\u001b[39;49m\u001b[43mitems\u001b[49m\u001b[43m(\u001b[49m\u001b[43m)\u001b[49m\u001b[43m}\u001b[49m\u001b[43m,\u001b[49m\n\u001b[0;32m   1172\u001b[0m \u001b[43m        \u001b[49m\u001b[43mtags\u001b[49m\u001b[38;5;241;43m=\u001b[39;49m\u001b[43m{\u001b[49m\u001b[43mkey\u001b[49m\u001b[43m:\u001b[49m\u001b[43m \u001b[49m\u001b[38;5;28;43mstr\u001b[39;49m\u001b[43m(\u001b[49m\u001b[43mvalue\u001b[49m\u001b[43m)\u001b[49m\u001b[43m \u001b[49m\u001b[38;5;28;43;01mfor\u001b[39;49;00m\u001b[43m \u001b[49m\u001b[43mkey\u001b[49m\u001b[43m,\u001b[49m\u001b[43m \u001b[49m\u001b[43mvalue\u001b[49m\u001b[43m \u001b[49m\u001b[38;5;129;43;01min\u001b[39;49;00m\u001b[43m \u001b[49m\u001b[43mtags\u001b[49m\u001b[38;5;241;43m.\u001b[39;49m\u001b[43mitems\u001b[49m\u001b[43m(\u001b[49m\u001b[43m)\u001b[49m\u001b[43m}\u001b[49m\n\u001b[0;32m   1173\u001b[0m \u001b[43m        \u001b[49m\u001b[38;5;28;43;01mif\u001b[39;49;00m\u001b[43m \u001b[49m\u001b[43mtags\u001b[49m\u001b[43m \u001b[49m\u001b[38;5;129;43;01mis\u001b[39;49;00m\u001b[43m \u001b[49m\u001b[38;5;129;43;01mnot\u001b[39;49;00m\u001b[43m \u001b[49m\u001b[38;5;28;43;01mNone\u001b[39;49;00m\n\u001b[0;32m   1174\u001b[0m \u001b[43m        \u001b[49m\u001b[38;5;28;43;01melse\u001b[39;49;00m\u001b[43m \u001b[49m\u001b[38;5;28;43;01mNone\u001b[39;49;00m\u001b[43m,\u001b[49m\n\u001b[0;32m   1175\u001b[0m \u001b[43m        \u001b[49m\u001b[43mflavor\u001b[49m\u001b[38;5;241;43m=\u001b[39;49m\u001b[43mflavor\u001b[49m\u001b[38;5;241;43m.\u001b[39;49m\u001b[38;5;18;43m__name__\u001b[39;49m\u001b[43m \u001b[49m\u001b[38;5;28;43;01mif\u001b[39;49;00m\u001b[43m \u001b[49m\u001b[38;5;28;43mhasattr\u001b[39;49m\u001b[43m(\u001b[49m\u001b[43mflavor\u001b[49m\u001b[43m,\u001b[49m\u001b[43m \u001b[49m\u001b[38;5;124;43m\"\u001b[39;49m\u001b[38;5;124;43m__name__\u001b[39;49m\u001b[38;5;124;43m\"\u001b[39;49m\u001b[43m)\u001b[49m\u001b[43m \u001b[49m\u001b[38;5;28;43;01melse\u001b[39;49;00m\u001b[43m \u001b[49m\u001b[38;5;124;43m\"\u001b[39;49m\u001b[38;5;124;43mcustom\u001b[39;49m\u001b[38;5;124;43m\"\u001b[39;49m\u001b[43m,\u001b[49m\n\u001b[0;32m   1176\u001b[0m \u001b[43m    \u001b[49m\u001b[43m)\u001b[49m\n\u001b[0;32m   1177\u001b[0m     _last_logged_model_id\u001b[38;5;241m.\u001b[39mset(model\u001b[38;5;241m.\u001b[39mmodel_id)\n\u001b[0;32m   1178\u001b[0m     \u001b[38;5;28;01mif\u001b[39;00m (\n\u001b[0;32m   1179\u001b[0m         MLFLOW_PRINT_MODEL_URLS_ON_CREATION\u001b[38;5;241m.\u001b[39mget()\n\u001b[0;32m   1180\u001b[0m         \u001b[38;5;129;01mand\u001b[39;00m is_databricks_uri(tracking_uri)\n\u001b[0;32m   1181\u001b[0m         \u001b[38;5;129;01mand\u001b[39;00m (workspace_url \u001b[38;5;241m:=\u001b[39m get_workspace_url())\n\u001b[0;32m   1182\u001b[0m     ):\n",
      "File \u001b[1;32mc:\\Users\\akato\\Desktop\\MLOps\\datascienceproject_fullflow\\venv\\lib\\site-packages\\mlflow\\tracking\\fluent.py:2305\u001b[0m, in \u001b[0;36m_create_logged_model\u001b[1;34m(name, source_run_id, tags, params, model_type, experiment_id, flavor)\u001b[0m\n\u001b[0;32m   2301\u001b[0m     experiment_id \u001b[38;5;241m=\u001b[39m _get_experiment_id() \u001b[38;5;129;01mor\u001b[39;00m (\n\u001b[0;32m   2302\u001b[0m         get_run(source_run_id)\u001b[38;5;241m.\u001b[39minfo\u001b[38;5;241m.\u001b[39mexperiment_id \u001b[38;5;28;01mif\u001b[39;00m source_run_id \u001b[38;5;28;01melse\u001b[39;00m \u001b[38;5;28;01mNone\u001b[39;00m\n\u001b[0;32m   2303\u001b[0m     )\n\u001b[0;32m   2304\u001b[0m resolved_tags \u001b[38;5;241m=\u001b[39m context_registry\u001b[38;5;241m.\u001b[39mresolve_tags(tags)\n\u001b[1;32m-> 2305\u001b[0m \u001b[38;5;28;01mreturn\u001b[39;00m \u001b[43mMlflowClient\u001b[49m\u001b[43m(\u001b[49m\u001b[43m)\u001b[49m\u001b[38;5;241;43m.\u001b[39;49m\u001b[43m_create_logged_model\u001b[49m\u001b[43m(\u001b[49m\n\u001b[0;32m   2306\u001b[0m \u001b[43m    \u001b[49m\u001b[43mexperiment_id\u001b[49m\u001b[38;5;241;43m=\u001b[39;49m\u001b[43mexperiment_id\u001b[49m\u001b[43m,\u001b[49m\n\u001b[0;32m   2307\u001b[0m \u001b[43m    \u001b[49m\u001b[43mname\u001b[49m\u001b[38;5;241;43m=\u001b[39;49m\u001b[43mname\u001b[49m\u001b[43m,\u001b[49m\n\u001b[0;32m   2308\u001b[0m \u001b[43m    \u001b[49m\u001b[43msource_run_id\u001b[49m\u001b[38;5;241;43m=\u001b[39;49m\u001b[43msource_run_id\u001b[49m\u001b[43m,\u001b[49m\n\u001b[0;32m   2309\u001b[0m \u001b[43m    \u001b[49m\u001b[43mtags\u001b[49m\u001b[38;5;241;43m=\u001b[39;49m\u001b[43mresolved_tags\u001b[49m\u001b[43m,\u001b[49m\n\u001b[0;32m   2310\u001b[0m \u001b[43m    \u001b[49m\u001b[43mparams\u001b[49m\u001b[38;5;241;43m=\u001b[39;49m\u001b[43mparams\u001b[49m\u001b[43m,\u001b[49m\n\u001b[0;32m   2311\u001b[0m \u001b[43m    \u001b[49m\u001b[43mmodel_type\u001b[49m\u001b[38;5;241;43m=\u001b[39;49m\u001b[43mmodel_type\u001b[49m\u001b[43m,\u001b[49m\n\u001b[0;32m   2312\u001b[0m \u001b[43m    \u001b[49m\u001b[43mflavor\u001b[49m\u001b[38;5;241;43m=\u001b[39;49m\u001b[43mflavor\u001b[49m\u001b[43m,\u001b[49m\n\u001b[0;32m   2313\u001b[0m \u001b[43m\u001b[49m\u001b[43m)\u001b[49m\n",
      "File \u001b[1;32mc:\\Users\\akato\\Desktop\\MLOps\\datascienceproject_fullflow\\venv\\lib\\site-packages\\mlflow\\tracking\\client.py:5394\u001b[0m, in \u001b[0;36mMlflowClient._create_logged_model\u001b[1;34m(self, experiment_id, name, source_run_id, tags, params, model_type, flavor)\u001b[0m\n\u001b[0;32m   5384\u001b[0m \u001b[38;5;28;01mdef\u001b[39;00m\u001b[38;5;250m \u001b[39m\u001b[38;5;21m_create_logged_model\u001b[39m(\n\u001b[0;32m   5385\u001b[0m     \u001b[38;5;28mself\u001b[39m,\n\u001b[0;32m   5386\u001b[0m     experiment_id: \u001b[38;5;28mstr\u001b[39m,\n\u001b[1;32m   (...)\u001b[0m\n\u001b[0;32m   5392\u001b[0m     flavor: \u001b[38;5;28mstr\u001b[39m \u001b[38;5;241m|\u001b[39m \u001b[38;5;28;01mNone\u001b[39;00m \u001b[38;5;241m=\u001b[39m \u001b[38;5;28;01mNone\u001b[39;00m,\n\u001b[0;32m   5393\u001b[0m ) \u001b[38;5;241m-\u001b[39m\u001b[38;5;241m>\u001b[39m LoggedModel:\n\u001b[1;32m-> 5394\u001b[0m     \u001b[38;5;28;01mreturn\u001b[39;00m \u001b[38;5;28;43mself\u001b[39;49m\u001b[38;5;241;43m.\u001b[39;49m\u001b[43m_tracking_client\u001b[49m\u001b[38;5;241;43m.\u001b[39;49m\u001b[43mcreate_logged_model\u001b[49m\u001b[43m(\u001b[49m\n\u001b[0;32m   5395\u001b[0m \u001b[43m        \u001b[49m\u001b[43mexperiment_id\u001b[49m\u001b[43m,\u001b[49m\u001b[43m \u001b[49m\u001b[43mname\u001b[49m\u001b[43m,\u001b[49m\u001b[43m \u001b[49m\u001b[43msource_run_id\u001b[49m\u001b[43m,\u001b[49m\u001b[43m \u001b[49m\u001b[43mtags\u001b[49m\u001b[43m,\u001b[49m\u001b[43m \u001b[49m\u001b[43mparams\u001b[49m\u001b[43m,\u001b[49m\u001b[43m \u001b[49m\u001b[43mmodel_type\u001b[49m\u001b[43m,\u001b[49m\u001b[43m \u001b[49m\u001b[43mflavor\u001b[49m\n\u001b[0;32m   5396\u001b[0m \u001b[43m    \u001b[49m\u001b[43m)\u001b[49m\n",
      "File \u001b[1;32mc:\\Users\\akato\\Desktop\\MLOps\\datascienceproject_fullflow\\venv\\lib\\site-packages\\mlflow\\telemetry\\track.py:22\u001b[0m, in \u001b[0;36mrecord_usage_event.<locals>.decorator.<locals>.wrapper\u001b[1;34m(*args, **kwargs)\u001b[0m\n\u001b[0;32m     19\u001b[0m \u001b[38;5;129m@functools\u001b[39m\u001b[38;5;241m.\u001b[39mwraps(func)\n\u001b[0;32m     20\u001b[0m \u001b[38;5;28;01mdef\u001b[39;00m\u001b[38;5;250m \u001b[39m\u001b[38;5;21mwrapper\u001b[39m(\u001b[38;5;241m*\u001b[39margs: P\u001b[38;5;241m.\u001b[39margs, \u001b[38;5;241m*\u001b[39m\u001b[38;5;241m*\u001b[39mkwargs: P\u001b[38;5;241m.\u001b[39mkwargs) \u001b[38;5;241m-\u001b[39m\u001b[38;5;241m>\u001b[39m R:\n\u001b[0;32m     21\u001b[0m     \u001b[38;5;28;01mif\u001b[39;00m is_telemetry_disabled() \u001b[38;5;129;01mor\u001b[39;00m _is_telemetry_disabled_for_event(event):\n\u001b[1;32m---> 22\u001b[0m         \u001b[38;5;28;01mreturn\u001b[39;00m func(\u001b[38;5;241m*\u001b[39margs, \u001b[38;5;241m*\u001b[39m\u001b[38;5;241m*\u001b[39mkwargs)\n\u001b[0;32m     24\u001b[0m     success \u001b[38;5;241m=\u001b[39m \u001b[38;5;28;01mTrue\u001b[39;00m\n\u001b[0;32m     25\u001b[0m     start_time \u001b[38;5;241m=\u001b[39m time\u001b[38;5;241m.\u001b[39mtime()\n",
      "File \u001b[1;32mc:\\Users\\akato\\Desktop\\MLOps\\datascienceproject_fullflow\\venv\\lib\\site-packages\\mlflow\\tracking\\_tracking_service\\client.py:847\u001b[0m, in \u001b[0;36mTrackingServiceClient.create_logged_model\u001b[1;34m(self, experiment_id, name, source_run_id, tags, params, model_type, flavor)\u001b[0m\n\u001b[0;32m    834\u001b[0m \u001b[38;5;129m@record_usage_event\u001b[39m(CreateLoggedModelEvent)\n\u001b[0;32m    835\u001b[0m \u001b[38;5;28;01mdef\u001b[39;00m\u001b[38;5;250m \u001b[39m\u001b[38;5;21mcreate_logged_model\u001b[39m(\n\u001b[0;32m    836\u001b[0m     \u001b[38;5;28mself\u001b[39m,\n\u001b[1;32m   (...)\u001b[0m\n\u001b[0;32m    845\u001b[0m     flavor: \u001b[38;5;28mstr\u001b[39m \u001b[38;5;241m|\u001b[39m \u001b[38;5;28;01mNone\u001b[39;00m \u001b[38;5;241m=\u001b[39m \u001b[38;5;28;01mNone\u001b[39;00m,\n\u001b[0;32m    846\u001b[0m ) \u001b[38;5;241m-\u001b[39m\u001b[38;5;241m>\u001b[39m LoggedModel:\n\u001b[1;32m--> 847\u001b[0m     \u001b[38;5;28;01mreturn\u001b[39;00m \u001b[38;5;28;43mself\u001b[39;49m\u001b[38;5;241;43m.\u001b[39;49m\u001b[43mstore\u001b[49m\u001b[38;5;241;43m.\u001b[39;49m\u001b[43mcreate_logged_model\u001b[49m\u001b[43m(\u001b[49m\n\u001b[0;32m    848\u001b[0m \u001b[43m        \u001b[49m\u001b[43mexperiment_id\u001b[49m\u001b[38;5;241;43m=\u001b[39;49m\u001b[43mexperiment_id\u001b[49m\u001b[43m,\u001b[49m\n\u001b[0;32m    849\u001b[0m \u001b[43m        \u001b[49m\u001b[43mname\u001b[49m\u001b[38;5;241;43m=\u001b[39;49m\u001b[43mname\u001b[49m\u001b[43m,\u001b[49m\n\u001b[0;32m    850\u001b[0m \u001b[43m        \u001b[49m\u001b[43msource_run_id\u001b[49m\u001b[38;5;241;43m=\u001b[39;49m\u001b[43msource_run_id\u001b[49m\u001b[43m,\u001b[49m\n\u001b[0;32m    851\u001b[0m \u001b[43m        \u001b[49m\u001b[43mtags\u001b[49m\u001b[38;5;241;43m=\u001b[39;49m\u001b[43m[\u001b[49m\u001b[43mLoggedModelTag\u001b[49m\u001b[43m(\u001b[49m\u001b[38;5;28;43mstr\u001b[39;49m\u001b[43m(\u001b[49m\u001b[43mkey\u001b[49m\u001b[43m)\u001b[49m\u001b[43m,\u001b[49m\u001b[43m \u001b[49m\u001b[38;5;28;43mstr\u001b[39;49m\u001b[43m(\u001b[49m\u001b[43mvalue\u001b[49m\u001b[43m)\u001b[49m\u001b[43m)\u001b[49m\u001b[43m \u001b[49m\u001b[38;5;28;43;01mfor\u001b[39;49;00m\u001b[43m \u001b[49m\u001b[43mkey\u001b[49m\u001b[43m,\u001b[49m\u001b[43m \u001b[49m\u001b[43mvalue\u001b[49m\u001b[43m \u001b[49m\u001b[38;5;129;43;01min\u001b[39;49;00m\u001b[43m \u001b[49m\u001b[43mtags\u001b[49m\u001b[38;5;241;43m.\u001b[39;49m\u001b[43mitems\u001b[49m\u001b[43m(\u001b[49m\u001b[43m)\u001b[49m\u001b[43m]\u001b[49m\n\u001b[0;32m    852\u001b[0m \u001b[43m        \u001b[49m\u001b[38;5;28;43;01mif\u001b[39;49;00m\u001b[43m \u001b[49m\u001b[43mtags\u001b[49m\u001b[43m \u001b[49m\u001b[38;5;129;43;01mis\u001b[39;49;00m\u001b[43m \u001b[49m\u001b[38;5;129;43;01mnot\u001b[39;49;00m\u001b[43m \u001b[49m\u001b[38;5;28;43;01mNone\u001b[39;49;00m\n\u001b[0;32m    853\u001b[0m \u001b[43m        \u001b[49m\u001b[38;5;28;43;01melse\u001b[39;49;00m\u001b[43m \u001b[49m\u001b[43mtags\u001b[49m\u001b[43m,\u001b[49m\n\u001b[0;32m    854\u001b[0m \u001b[43m        \u001b[49m\u001b[43mparams\u001b[49m\u001b[38;5;241;43m=\u001b[39;49m\u001b[43m[\u001b[49m\u001b[43mLoggedModelParameter\u001b[49m\u001b[43m(\u001b[49m\u001b[38;5;28;43mstr\u001b[39;49m\u001b[43m(\u001b[49m\u001b[43mkey\u001b[49m\u001b[43m)\u001b[49m\u001b[43m,\u001b[49m\u001b[43m \u001b[49m\u001b[38;5;28;43mstr\u001b[39;49m\u001b[43m(\u001b[49m\u001b[43mvalue\u001b[49m\u001b[43m)\u001b[49m\u001b[43m)\u001b[49m\u001b[43m \u001b[49m\u001b[38;5;28;43;01mfor\u001b[39;49;00m\u001b[43m \u001b[49m\u001b[43mkey\u001b[49m\u001b[43m,\u001b[49m\u001b[43m \u001b[49m\u001b[43mvalue\u001b[49m\u001b[43m \u001b[49m\u001b[38;5;129;43;01min\u001b[39;49;00m\u001b[43m \u001b[49m\u001b[43mparams\u001b[49m\u001b[38;5;241;43m.\u001b[39;49m\u001b[43mitems\u001b[49m\u001b[43m(\u001b[49m\u001b[43m)\u001b[49m\u001b[43m]\u001b[49m\n\u001b[0;32m    855\u001b[0m \u001b[43m        \u001b[49m\u001b[38;5;28;43;01mif\u001b[39;49;00m\u001b[43m \u001b[49m\u001b[43mparams\u001b[49m\u001b[43m \u001b[49m\u001b[38;5;129;43;01mis\u001b[39;49;00m\u001b[43m \u001b[49m\u001b[38;5;129;43;01mnot\u001b[39;49;00m\u001b[43m \u001b[49m\u001b[38;5;28;43;01mNone\u001b[39;49;00m\n\u001b[0;32m    856\u001b[0m \u001b[43m        \u001b[49m\u001b[38;5;28;43;01melse\u001b[39;49;00m\u001b[43m \u001b[49m\u001b[43mparams\u001b[49m\u001b[43m,\u001b[49m\n\u001b[0;32m    857\u001b[0m \u001b[43m        \u001b[49m\u001b[43mmodel_type\u001b[49m\u001b[38;5;241;43m=\u001b[39;49m\u001b[43mmodel_type\u001b[49m\u001b[43m,\u001b[49m\n\u001b[0;32m    858\u001b[0m \u001b[43m    \u001b[49m\u001b[43m)\u001b[49m\n",
      "File \u001b[1;32mc:\\Users\\akato\\Desktop\\MLOps\\datascienceproject_fullflow\\venv\\lib\\site-packages\\mlflow\\store\\tracking\\rest_store.py:824\u001b[0m, in \u001b[0;36mRestStore.create_logged_model\u001b[1;34m(self, experiment_id, name, source_run_id, tags, params, model_type)\u001b[0m\n\u001b[0;32m    811\u001b[0m     remaining_params \u001b[38;5;241m=\u001b[39m params[initial_batch_size:]\n\u001b[0;32m    813\u001b[0m req_body \u001b[38;5;241m=\u001b[39m message_to_json(\n\u001b[0;32m    814\u001b[0m     CreateLoggedModel(\n\u001b[0;32m    815\u001b[0m         experiment_id\u001b[38;5;241m=\u001b[39mexperiment_id,\n\u001b[1;32m   (...)\u001b[0m\n\u001b[0;32m    821\u001b[0m     )\n\u001b[0;32m    822\u001b[0m )\n\u001b[1;32m--> 824\u001b[0m response_proto \u001b[38;5;241m=\u001b[39m \u001b[38;5;28;43mself\u001b[39;49m\u001b[38;5;241;43m.\u001b[39;49m\u001b[43m_call_endpoint\u001b[49m\u001b[43m(\u001b[49m\u001b[43mCreateLoggedModel\u001b[49m\u001b[43m,\u001b[49m\u001b[43m \u001b[49m\u001b[43mreq_body\u001b[49m\u001b[43m)\u001b[49m\n\u001b[0;32m    825\u001b[0m model \u001b[38;5;241m=\u001b[39m LoggedModel\u001b[38;5;241m.\u001b[39mfrom_proto(response_proto\u001b[38;5;241m.\u001b[39mmodel)\n\u001b[0;32m    827\u001b[0m \u001b[38;5;66;03m# Log remaining params if there are any\u001b[39;00m\n",
      "File \u001b[1;32mc:\\Users\\akato\\Desktop\\MLOps\\datascienceproject_fullflow\\venv\\lib\\site-packages\\mlflow\\store\\tracking\\rest_store.py:134\u001b[0m, in \u001b[0;36mRestStore._call_endpoint\u001b[1;34m(self, api, json_body, endpoint, retry_timeout_seconds)\u001b[0m\n\u001b[0;32m    132\u001b[0m     endpoint, method \u001b[38;5;241m=\u001b[39m _METHOD_TO_INFO[api]\n\u001b[0;32m    133\u001b[0m response_proto \u001b[38;5;241m=\u001b[39m api\u001b[38;5;241m.\u001b[39mResponse()\n\u001b[1;32m--> 134\u001b[0m \u001b[38;5;28;01mreturn\u001b[39;00m \u001b[43mcall_endpoint\u001b[49m\u001b[43m(\u001b[49m\n\u001b[0;32m    135\u001b[0m \u001b[43m    \u001b[49m\u001b[38;5;28;43mself\u001b[39;49m\u001b[38;5;241;43m.\u001b[39;49m\u001b[43mget_host_creds\u001b[49m\u001b[43m(\u001b[49m\u001b[43m)\u001b[49m\u001b[43m,\u001b[49m\n\u001b[0;32m    136\u001b[0m \u001b[43m    \u001b[49m\u001b[43mendpoint\u001b[49m\u001b[43m,\u001b[49m\n\u001b[0;32m    137\u001b[0m \u001b[43m    \u001b[49m\u001b[43mmethod\u001b[49m\u001b[43m,\u001b[49m\n\u001b[0;32m    138\u001b[0m \u001b[43m    \u001b[49m\u001b[43mjson_body\u001b[49m\u001b[43m,\u001b[49m\n\u001b[0;32m    139\u001b[0m \u001b[43m    \u001b[49m\u001b[43mresponse_proto\u001b[49m\u001b[43m,\u001b[49m\n\u001b[0;32m    140\u001b[0m \u001b[43m    \u001b[49m\u001b[43mretry_timeout_seconds\u001b[49m\u001b[38;5;241;43m=\u001b[39;49m\u001b[43mretry_timeout_seconds\u001b[49m\u001b[43m,\u001b[49m\n\u001b[0;32m    141\u001b[0m \u001b[43m\u001b[49m\u001b[43m)\u001b[49m\n",
      "File \u001b[1;32mc:\\Users\\akato\\Desktop\\MLOps\\datascienceproject_fullflow\\venv\\lib\\site-packages\\mlflow\\utils\\rest_utils.py:554\u001b[0m, in \u001b[0;36mcall_endpoint\u001b[1;34m(host_creds, endpoint, method, json_body, response_proto, extra_headers, retry_timeout_seconds)\u001b[0m\n\u001b[0;32m    551\u001b[0m     call_kwargs[\u001b[38;5;124m\"\u001b[39m\u001b[38;5;124mjson\u001b[39m\u001b[38;5;124m\"\u001b[39m] \u001b[38;5;241m=\u001b[39m json_body\n\u001b[0;32m    552\u001b[0m     response \u001b[38;5;241m=\u001b[39m http_request(\u001b[38;5;241m*\u001b[39m\u001b[38;5;241m*\u001b[39mcall_kwargs)\n\u001b[1;32m--> 554\u001b[0m response \u001b[38;5;241m=\u001b[39m \u001b[43mverify_rest_response\u001b[49m\u001b[43m(\u001b[49m\u001b[43mresponse\u001b[49m\u001b[43m,\u001b[49m\u001b[43m \u001b[49m\u001b[43mendpoint\u001b[49m\u001b[43m)\u001b[49m\n\u001b[0;32m    555\u001b[0m response_to_parse \u001b[38;5;241m=\u001b[39m response\u001b[38;5;241m.\u001b[39mtext\n\u001b[0;32m    556\u001b[0m \u001b[38;5;28;01mtry\u001b[39;00m:\n",
      "File \u001b[1;32mc:\\Users\\akato\\Desktop\\MLOps\\datascienceproject_fullflow\\venv\\lib\\site-packages\\mlflow\\utils\\rest_utils.py:308\u001b[0m, in \u001b[0;36mverify_rest_response\u001b[1;34m(response, endpoint)\u001b[0m\n\u001b[0;32m    306\u001b[0m \u001b[38;5;28;01mif\u001b[39;00m response\u001b[38;5;241m.\u001b[39mstatus_code \u001b[38;5;241m!=\u001b[39m \u001b[38;5;241m200\u001b[39m:\n\u001b[0;32m    307\u001b[0m     \u001b[38;5;28;01mif\u001b[39;00m _can_parse_as_json_object(response\u001b[38;5;241m.\u001b[39mtext):\n\u001b[1;32m--> 308\u001b[0m         \u001b[38;5;28;01mraise\u001b[39;00m RestException(json\u001b[38;5;241m.\u001b[39mloads(response\u001b[38;5;241m.\u001b[39mtext))\n\u001b[0;32m    309\u001b[0m     \u001b[38;5;28;01melse\u001b[39;00m:\n\u001b[0;32m    310\u001b[0m         base_msg \u001b[38;5;241m=\u001b[39m (\n\u001b[0;32m    311\u001b[0m             \u001b[38;5;124mf\u001b[39m\u001b[38;5;124m\"\u001b[39m\u001b[38;5;124mAPI request to endpoint \u001b[39m\u001b[38;5;132;01m{\u001b[39;00mendpoint\u001b[38;5;132;01m}\u001b[39;00m\u001b[38;5;124m \u001b[39m\u001b[38;5;124m\"\u001b[39m\n\u001b[0;32m    312\u001b[0m             \u001b[38;5;124mf\u001b[39m\u001b[38;5;124m\"\u001b[39m\u001b[38;5;124mfailed with error code \u001b[39m\u001b[38;5;132;01m{\u001b[39;00mresponse\u001b[38;5;241m.\u001b[39mstatus_code\u001b[38;5;132;01m}\u001b[39;00m\u001b[38;5;124m != 200\u001b[39m\u001b[38;5;124m\"\u001b[39m\n\u001b[0;32m    313\u001b[0m         )\n",
      "\u001b[1;31mRestException\u001b[0m: INTERNAL_ERROR: Response: {'error': 'unsupported endpoint, please contact support@dagshub.com'}"
     ]
    }
   ],
   "source": [
    "try:\n",
    "    config = ConfigurationManager()\n",
    "    model_evaluation_config = config.get_model_evaluation_config()\n",
    "    model_evaluation = ModelEvaluation(config=model_evaluation_config)\n",
    "    model_evaluation.log_into_mlflow()\n",
    "except Exception as e:\n",
    "    raise e"
   ]
  },
  {
   "cell_type": "code",
   "execution_count": 22,
   "id": "d5e3db5e",
   "metadata": {},
   "outputs": [
    {
     "name": "stdout",
     "output_type": "stream",
     "text": [
      "Checking file at: c:\\Users\\akato\\Desktop\\MLOps\\datascienceproject_fullflow\\artifacts\\data_transformation\\test.csv\n",
      "File exists: True\n",
      "\n",
      "Test data info:\n",
      "<class 'pandas.core.frame.DataFrame'>\n",
      "MultiIndex: 980 entries, (np.float64(6.0), np.float64(0.29), np.float64(0.41), np.float64(10.8), np.float64(0.048), np.float64(55.0), np.float64(149.0), np.float64(0.9937), np.float64(3.09), np.float64(0.59), np.float64(10.9666666666667)) to (np.float64(6.7), np.float64(0.22), np.float64(0.39), np.float64(1.2), np.float64(0.049), np.float64(26.0), np.float64(152.0), np.float64(0.99346), np.float64(3.5), np.float64(0.47), np.float64(10.0))\n",
      "Data columns (total 1 columns):\n",
      " #   Column                                                                                                                                                                   Non-Null Count  Dtype\n",
      "---  ------                                                                                                                                                                   --------------  -----\n",
      " 0   fixed acidity;\"volatile acidity\";\"citric acid\";\"residual sugar\";\"chlorides\";\"free sulfur dioxide\";\"total sulfur dioxide\";\"density\";\"pH\";\"sulphates\";\"alcohol\";\"quality\"  980 non-null    int64\n",
      "dtypes: int64(1)\n",
      "memory usage: 77.3 KB\n",
      "None\n",
      "\n",
      "Test data columns:\n",
      "['fixed acidity;\"volatile acidity\";\"citric acid\";\"residual sugar\";\"chlorides\";\"free sulfur dioxide\";\"total sulfur dioxide\";\"density\";\"pH\";\"sulphates\";\"alcohol\";\"quality\"']\n",
      "\n",
      "First few rows:\n",
      "                                                                 fixed acidity;\"volatile acidity\";\"citric acid\";\"residual sugar\";\"chlorides\";\"free sulfur dioxide\";\"total sulfur dioxide\";\"density\";\"pH\";\"sulphates\";\"alcohol\";\"quality\"\n",
      "6.0 0.29 0.41 10.8 0.048 55.0 149.0 0.99370 3.09 0.59 10.966667                                                  7                                                                                                                      \n",
      "5.4 0.53 0.16 2.7  0.036 34.0 128.0 0.98856 3.20 0.53 13.200000                                                  8                                                                                                                      \n",
      "7.1 0.25 0.39 2.1  0.036 30.0 124.0 0.99080 3.28 0.43 12.200000                                                  8                                                                                                                      \n",
      "7.3 0.28 0.35 1.6  0.054 31.0 148.0 0.99178 3.18 0.47 10.700000                                                  5                                                                                                                      \n",
      "6.5 0.32 0.34 5.7  0.044 27.0 91.0  0.99184 3.28 0.60 12.000000                                                  7                                                                                                                      \n",
      "\n",
      "Raw content of first few lines:\n",
      "\"fixed acidity;\"\"volatile acidity\"\";\"\"citric acid\"\";\"\"residual sugar\"\";\"\"chlorides\"\";\"\"free sulfur dioxide\"\";\"\"total sulfur dioxide\"\";\"\"density\"\";\"\"pH\"\";\"\"sulphates\"\";\"\"alcohol\"\";\"\"quality\"\"\"\n",
      "6;0.29;0.41;10.8;0.048;55;149;0.9937;3.09;0.59;10.9666666666667;7\n",
      "[2025-08-27 08:23:26,171] INFO in common: YAML file c:\\Users\\akato\\Desktop\\MLOps\\datascienceproject_fullflow\\configs\\config.yaml loaded successfully.\n",
      "[2025-08-27 08:23:26,171] INFO in common: YAML file c:\\Users\\akato\\Desktop\\MLOps\\datascienceproject_fullflow\\params.yaml loaded successfully.\n",
      "\"fixed acidity;\"\"volatile acidity\"\";\"\"citric acid\"\";\"\"residual sugar\"\";\"\"chlorides\"\";\"\"free sulfur dioxide\"\";\"\"total sulfur dioxide\"\";\"\"density\"\";\"\"pH\"\";\"\"sulphates\"\";\"\"alcohol\"\";\"\"quality\"\"\"\n",
      "6;0.29;0.41;10.8;0.048;55;149;0.9937;3.09;0.59;10.9666666666667;7\n",
      "[2025-08-27 08:23:26,171] INFO in common: YAML file c:\\Users\\akato\\Desktop\\MLOps\\datascienceproject_fullflow\\configs\\config.yaml loaded successfully.\n",
      "[2025-08-27 08:23:26,171] INFO in common: YAML file c:\\Users\\akato\\Desktop\\MLOps\\datascienceproject_fullflow\\params.yaml loaded successfully.\n",
      "[2025-08-27 08:23:26,180] INFO in common: YAML file c:\\Users\\akato\\Desktop\\MLOps\\datascienceproject_fullflow\\schema.yaml loaded successfully.\n",
      "[2025-08-27 08:23:26,182] INFO in common: created directory at: artifacts\n",
      "[2025-08-27 08:23:26,184] INFO in common: created directory at: artifacts/model_evaluation\n",
      "\n",
      "Target column from config:\n",
      "Original: 'quality'\n",
      "Stripped: 'quality'\n",
      "[2025-08-27 08:23:26,180] INFO in common: YAML file c:\\Users\\akato\\Desktop\\MLOps\\datascienceproject_fullflow\\schema.yaml loaded successfully.\n",
      "[2025-08-27 08:23:26,182] INFO in common: created directory at: artifacts\n",
      "[2025-08-27 08:23:26,184] INFO in common: created directory at: artifacts/model_evaluation\n",
      "\n",
      "Target column from config:\n",
      "Original: 'quality'\n",
      "Stripped: 'quality'\n"
     ]
    }
   ],
   "source": [
    "# Debug cell - Check test data\n",
    "import pandas as pd\n",
    "from pathlib import Path\n",
    "\n",
    "# First check if the file exists\n",
    "test_data_path = Path(\"artifacts/data_transformation/test.csv\")\n",
    "print(f\"Checking file at: {test_data_path.absolute()}\")\n",
    "print(f\"File exists: {test_data_path.exists()}\\n\")\n",
    "\n",
    "try:\n",
    "    # Try reading with explicit encoding\n",
    "    test_data = pd.read_csv(test_data_path, sep=';', encoding='utf-8')\n",
    "    \n",
    "    print(\"Test data info:\")\n",
    "    print(test_data.info())\n",
    "    \n",
    "    print(\"\\nTest data columns:\")\n",
    "    print(test_data.columns.tolist())\n",
    "    \n",
    "    print(\"\\nFirst few rows:\")\n",
    "    print(test_data.head())\n",
    "    \n",
    "    # Print raw content of first few lines to check for formatting issues\n",
    "    print(\"\\nRaw content of first few lines:\")\n",
    "    with open(test_data_path, 'r', encoding='utf-8') as f:\n",
    "        print(f.readline().strip())  # header line\n",
    "        print(f.readline().strip())  # first data line\n",
    "    \n",
    "    # Print target column name for verification\n",
    "    config = ConfigurationManager()\n",
    "    model_evaluation_config = config.get_model_evaluation_config()\n",
    "    print(\"\\nTarget column from config:\")\n",
    "    print(f\"Original: '{model_evaluation_config.TARGET_COLUMN}'\")\n",
    "    stripped_target = model_evaluation_config.TARGET_COLUMN.strip().strip('\"')\n",
    "    print(f\"Stripped: '{stripped_target}'\")\n",
    "\n",
    "except Exception as e:\n",
    "    print(f\"Error reading file: {str(e)}\")\n",
    "    \n",
    "    # If there was an error, try to read the raw file content\n",
    "    try:\n",
    "        print(\"\\nAttempting to read raw file content:\")\n",
    "        with open(test_data_path, 'r', encoding='utf-8') as f:\n",
    "            print(f.read(500))  # Read first 500 characters\n",
    "    except Exception as e2:\n",
    "        print(f\"Error reading raw file: {str(e2)}\")"
   ]
  },
  {
   "cell_type": "code",
   "execution_count": null,
   "id": "dad215c5",
   "metadata": {},
   "outputs": [],
   "source": []
  }
 ],
 "metadata": {
  "kernelspec": {
   "display_name": "venv",
   "language": "python",
   "name": "python3"
  },
  "language_info": {
   "codemirror_mode": {
    "name": "ipython",
    "version": 3
   },
   "file_extension": ".py",
   "mimetype": "text/x-python",
   "name": "python",
   "nbconvert_exporter": "python",
   "pygments_lexer": "ipython3",
   "version": "3.10.0"
  }
 },
 "nbformat": 4,
 "nbformat_minor": 5
}
